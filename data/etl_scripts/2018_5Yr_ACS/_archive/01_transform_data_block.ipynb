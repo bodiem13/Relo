{
 "cells": [
  {
   "cell_type": "code",
   "execution_count": 1,
   "metadata": {},
   "outputs": [],
   "source": [
    "import os\n",
    "from functools import reduce\n",
    "import pickle\n",
    "import pandas as pd"
   ]
  },
  {
   "cell_type": "code",
   "execution_count": 2,
   "metadata": {},
   "outputs": [
    {
     "name": "stdout",
     "output_type": "stream",
     "text": [
      "[Errno 17] File exists: '/media/school/project/temp_2018-5-year/2018_acs/INTERMEDIATE_DATA_2/'\n",
      "[Errno 17] File exists: '/media/school/project/temp_2018-5-year/2018_acs/RESULTS_2/'\n"
     ]
    }
   ],
   "source": [
    "#################################\n",
    "WORK_DIR = '/media/school/project/temp_2018-5-year/2018_acs'\n",
    "RECALC_DATA = True # refreshes data from scratch when True, reads pickles when False\n",
    "#################################\n",
    "\n",
    "# Directories that exist\n",
    "SF_DIR = os.path.join(WORK_DIR, 'Tracts_Block_Groups_Only')\n",
    "SF_TEMPLATE_DIR = os.path.join(WORK_DIR, '2018_5yr_Summary_FileTemplates')\n",
    "\n",
    "# Directories created by this script\n",
    "INT_DIR = os.path.join(WORK_DIR, 'INTERMEDIATE_DATA_2/')\n",
    "RES_DIR = os.path.join(WORK_DIR, 'RESULTS_2/')\n",
    "\n",
    "try:\n",
    "    os.makedirs(INT_DIR)\n",
    "except Exception as e:\n",
    "    print(e)\n",
    "    \n",
    "try:\n",
    "    os.makedirs(RES_DIR)\n",
    "except Exception as e:\n",
    "    print(e)"
   ]
  },
  {
   "cell_type": "code",
   "execution_count": 3,
   "metadata": {},
   "outputs": [],
   "source": [
    "def save_pkl(file_path, data):\n",
    "    with open(file_path, 'wb') as handle:\n",
    "        pickle.dump(data, handle, protocol=pickle.HIGHEST_PROTOCOL)\n",
    "\n",
    "def read_pkl(file_path):\n",
    "    with open(file_path, 'rb') as handle:\n",
    "        data = pickle.load(handle)\n",
    "        return data"
   ]
  },
  {
   "cell_type": "markdown",
   "metadata": {},
   "source": [
    "Summary files start with e, m, or g, indicating:\n",
    "\n",
    "* e: estimates\n",
    "* m: margins of error\n",
    "* g: geography files"
   ]
  },
  {
   "cell_type": "code",
   "execution_count": 4,
   "metadata": {},
   "outputs": [
    {
     "name": "stdout",
     "output_type": "stream",
     "text": [
      "/media/school/project/temp_2018-5-year/2018_acs/Tracts_Block_Groups_Only\n"
     ]
    }
   ],
   "source": [
    "print(SF_DIR)\n",
    "sf_files = os.listdir(SF_DIR)\n",
    "# verify present files fall into the three categories, as denoted by first letter of filename\n",
    "for first_letter in [x[0] for x in sf_files]:\n",
    "    assert first_letter in ['e', 'm', 'g']"
   ]
  },
  {
   "cell_type": "markdown",
   "metadata": {},
   "source": [
    "#### Build 'Estimates' Data Dict"
   ]
  },
  {
   "cell_type": "code",
   "execution_count": 5,
   "metadata": {},
   "outputs": [
    {
     "data": {
      "text/html": [
       "<div>\n",
       "<style scoped>\n",
       "    .dataframe tbody tr th:only-of-type {\n",
       "        vertical-align: middle;\n",
       "    }\n",
       "\n",
       "    .dataframe tbody tr th {\n",
       "        vertical-align: top;\n",
       "    }\n",
       "\n",
       "    .dataframe thead th {\n",
       "        text-align: right;\n",
       "    }\n",
       "</style>\n",
       "<table border=\"1\" class=\"dataframe\">\n",
       "  <thead>\n",
       "    <tr style=\"text-align: right;\">\n",
       "      <th></th>\n",
       "      <th>column</th>\n",
       "      <th>description</th>\n",
       "    </tr>\n",
       "  </thead>\n",
       "  <tbody>\n",
       "    <tr>\n",
       "      <th>0</th>\n",
       "      <td>FILEID</td>\n",
       "      <td>FILEID</td>\n",
       "    </tr>\n",
       "    <tr>\n",
       "      <th>1</th>\n",
       "      <td>FILETYPE</td>\n",
       "      <td>FILETYPE</td>\n",
       "    </tr>\n",
       "    <tr>\n",
       "      <th>2</th>\n",
       "      <td>STUSAB</td>\n",
       "      <td>STUSAB</td>\n",
       "    </tr>\n",
       "    <tr>\n",
       "      <th>3</th>\n",
       "      <td>CHARITER</td>\n",
       "      <td>CHARITER</td>\n",
       "    </tr>\n",
       "    <tr>\n",
       "      <th>4</th>\n",
       "      <td>SEQUENCE</td>\n",
       "      <td>SEQUENCE</td>\n",
       "    </tr>\n",
       "    <tr>\n",
       "      <th>...</th>\n",
       "      <td>...</td>\n",
       "      <td>...</td>\n",
       "    </tr>\n",
       "    <tr>\n",
       "      <th>26997</th>\n",
       "      <td>B99088_004</td>\n",
       "      <td>ALLOCATION OF TRAVEL TIME TO WORK FOR WORKPLAC...</td>\n",
       "    </tr>\n",
       "    <tr>\n",
       "      <th>26998</th>\n",
       "      <td>B99088_005</td>\n",
       "      <td>ALLOCATION OF TRAVEL TIME TO WORK FOR WORKPLAC...</td>\n",
       "    </tr>\n",
       "    <tr>\n",
       "      <th>26999</th>\n",
       "      <td>B99089_001</td>\n",
       "      <td>ALLOCATION OF VEHICLES AVAILABLE FOR WORKERS F...</td>\n",
       "    </tr>\n",
       "    <tr>\n",
       "      <th>27000</th>\n",
       "      <td>B99089_002</td>\n",
       "      <td>ALLOCATION OF VEHICLES AVAILABLE FOR WORKERS F...</td>\n",
       "    </tr>\n",
       "    <tr>\n",
       "      <th>27001</th>\n",
       "      <td>B99089_003</td>\n",
       "      <td>ALLOCATION OF VEHICLES AVAILABLE FOR WORKERS F...</td>\n",
       "    </tr>\n",
       "  </tbody>\n",
       "</table>\n",
       "<p>27002 rows × 2 columns</p>\n",
       "</div>"
      ],
      "text/plain": [
       "           column                                        description\n",
       "0          FILEID                                             FILEID\n",
       "1        FILETYPE                                           FILETYPE\n",
       "2          STUSAB                                             STUSAB\n",
       "3        CHARITER                                           CHARITER\n",
       "4        SEQUENCE                                           SEQUENCE\n",
       "...           ...                                                ...\n",
       "26997  B99088_004  ALLOCATION OF TRAVEL TIME TO WORK FOR WORKPLAC...\n",
       "26998  B99088_005  ALLOCATION OF TRAVEL TIME TO WORK FOR WORKPLAC...\n",
       "26999  B99089_001  ALLOCATION OF VEHICLES AVAILABLE FOR WORKERS F...\n",
       "27000  B99089_002  ALLOCATION OF VEHICLES AVAILABLE FOR WORKERS F...\n",
       "27001  B99089_003  ALLOCATION OF VEHICLES AVAILABLE FOR WORKERS F...\n",
       "\n",
       "[27002 rows x 2 columns]"
      ]
     },
     "execution_count": 5,
     "metadata": {},
     "output_type": "execute_result"
    }
   ],
   "source": [
    "# Build data dictionary of encoded column name: description\n",
    "SF_DATA_DICT_dict = {}\n",
    "for f in os.listdir(SF_TEMPLATE_DIR):\n",
    "    if not f.startswith('seq'):\n",
    "        continue\n",
    "    file_path = os.path.join(SF_TEMPLATE_DIR, f)\n",
    "    template_data = pd.read_excel(file_path, sheet_name='e')\n",
    "    mapping = dict(zip(template_data.columns, template_data.iloc[0]))\n",
    "    SF_DATA_DICT_dict.update(mapping)\n",
    "SF_DATA_DICT = pd.Series(SF_DATA_DICT_dict).reset_index()\n",
    "SF_DATA_DICT.columns = ['column', 'description']\n",
    "SF_DATA_DICT.to_pickle(os.path.join(INT_DIR, 'SF_DATA_DICT.pkl'))\n",
    "SF_DATA_DICT"
   ]
  },
  {
   "cell_type": "markdown",
   "metadata": {},
   "source": [
    "#### Build 'Estimates' table"
   ]
  },
  {
   "cell_type": "code",
   "execution_count": 6,
   "metadata": {},
   "outputs": [],
   "source": [
    "# First, prepare dict of {<int>seq: column names} for estimates to speed up lookups\n",
    "COL_NAME_LU = {}\n",
    "for template in os.listdir(SF_TEMPLATE_DIR):\n",
    "    if not template.startswith('seq'):\n",
    "        continue\n",
    "    seq = int(template.split('.')[0][3:])\n",
    "    columns = pd.read_excel(os.path.join(SF_TEMPLATE_DIR, template), sheet_name='e').columns\n",
    "    COL_NAME_LU[seq] = columns"
   ]
  },
  {
   "cell_type": "code",
   "execution_count": null,
   "metadata": {},
   "outputs": [
    {
     "name": "stdout",
     "output_type": "stream",
     "text": [
      "Percent complete: 83.72%"
     ]
    }
   ],
   "source": [
    "if RECALC_DATA:\n",
    "    # build dataframes by state, then later all data will be concatenated\n",
    "    # This makes things more efficient due to the large volume of tables.\n",
    "    RESULTS = {}\n",
    "    sf_e_files = [x for x in sf_files if x[0]=='e']\n",
    "    for i, f in enumerate(sf_e_files):\n",
    "        print('\\rPercent complete: {}%'.format(round((float(i+1)/len(sf_e_files))*100., 2)), end='')\n",
    "        # get filetype\n",
    "        ftype = f[0]\n",
    "        # get path to file for reading\n",
    "        file_path = os.path.join(SF_DIR, f)\n",
    "        # get state\n",
    "        state = f[6:8]\n",
    "        # get sequence\n",
    "        seq = int(f[8:12])\n",
    "        # look up column names for this file\n",
    "        columns = COL_NAME_LU[seq]\n",
    "        # read the data and set the appropriate column names\n",
    "        data = pd.read_csv(file_path, header=None, names=columns, low_memory=False)\n",
    "        # drop unnecessary columns\n",
    "        data.drop(columns=['FILEID', 'FILETYPE', 'CHARITER', 'SEQUENCE'], inplace=True)\n",
    "        # set index for concatenation - needed because `.merge()` on\n",
    "        # this many files takes FOREVER.\n",
    "        data.set_index(['STUSAB','LOGRECNO'], inplace=True)\n",
    "\n",
    "        # merge data for current state\n",
    "        if state not in RESULTS.keys():\n",
    "            RESULTS[state] = data\n",
    "        else:\n",
    "            RESULTS[state] = pd.concat([RESULTS[state], data], axis=1)\n",
    "\n",
    "\n",
    "    save_pkl(os.path.join(INT_DIR, 'RESULTS.pkl'), RESULTS)\n",
    "    print('\\nDone!\\nNumber of states processed: {}'.format(len(RESULTS)))\n",
    "else:\n",
    "    print('Loading previous result...')\n",
    "    RESULTS = read_pkl(os.path.join(INT_DIR, 'RESULTS.pkl'))\n",
    "    print('Done')"
   ]
  },
  {
   "cell_type": "code",
   "execution_count": null,
   "metadata": {},
   "outputs": [],
   "source": [
    "print('Concatenating results...')\n",
    "\n",
    "if RECALC_DATA:\n",
    "    # Reset indicies\n",
    "    for i, (state, df) in enumerate(RESULTS.items()):\n",
    "        df.reset_index(inplace=True)\n",
    "\n",
    "    # Concatenate tables from different states\n",
    "    ESTIMATES = pd.concat([df for df in RESULTS.values()])\n",
    "    ESTIMATES.to_pickle(os.path.join(INT_DIR, 'ESTIMATES.pkl'))\n",
    "else:\n",
    "    print('Loading previous result...')\n",
    "    ESTIMATES = pd.read_pickle(os.path.join(INT_DIR, 'ESTIMATES.pkl'))\n",
    "    print('Done')    \n",
    "\n",
    "del RESULTS # free up some memory, we don't need those anymore.\n",
    "ESTIMATES"
   ]
  },
  {
   "cell_type": "markdown",
   "metadata": {},
   "source": [
    "## Geo Data"
   ]
  },
  {
   "cell_type": "markdown",
   "metadata": {},
   "source": [
    "#### Build 'Geo' Data Dict"
   ]
  },
  {
   "cell_type": "code",
   "execution_count": null,
   "metadata": {},
   "outputs": [],
   "source": [
    "# Build data dictionary of encoded column name: description\n",
    "file_path = os.path.join(SF_TEMPLATE_DIR, '2019_SFGeoFileTemplate.xlsx')\n",
    "template_data = pd.read_excel(file_path)\n",
    "GEO_COLS = template_data.columns\n",
    "GEO_DATA_DICT_dict = dict(zip(GEO_COLS, template_data.iloc[0]))\n",
    "    \n",
    "GEO_DATA_DICT = pd.Series(GEO_DATA_DICT_dict).reset_index()\n",
    "GEO_DATA_DICT.columns = ['column', 'description']\n",
    "GEO_DATA_DICT.to_pickle(os.path.join(INT_DIR, 'GEO_DATA_DICT.pkl'))\n",
    "GEO_DATA_DICT.head(10)"
   ]
  },
  {
   "cell_type": "code",
   "execution_count": null,
   "metadata": {},
   "outputs": [],
   "source": [
    "if RECALC_DATA:\n",
    "    GEO_TABLE = pd.DataFrame()\n",
    "    sf_g_files = [x for x in sf_files if x[0]=='g' and x.endswith('.csv')]\n",
    "    columns = GEO_COLS\n",
    "\n",
    "    for i, f in enumerate(sf_g_files):\n",
    "        print('\\rPercent complete: {}%'.format(round((float(i+1)/len(sf_g_files))*100., 2)), end='')\n",
    "        # get filetype\n",
    "        ftype = f[0]\n",
    "        # get path to file for reading\n",
    "        file_path = os.path.join(SF_DIR, f)\n",
    "        # get state\n",
    "        state = f.split('.')[0][-2:]\n",
    "\n",
    "        # read the data and set the appropriate column names\n",
    "        try:\n",
    "            data = pd.read_csv(file_path, header=None, names=columns, encoding=\"ISO-8859-1\")\n",
    "        except Exception as e:\n",
    "            print(e)\n",
    "            print('\\nFailure on file {}\\n'.format(f))\n",
    "            continue\n",
    "\n",
    "        GEO_TABLE = GEO_TABLE.append(data)\n",
    "\n",
    "\n",
    "    save_pkl(os.path.join(INT_DIR, 'GEO_TABLE.pkl'), GEO_TABLE)\n",
    "    print('\\nDone!')\n",
    "else:\n",
    "    print('Loading previous result...')\n",
    "    GEO_TABLE = read_pkl(os.path.join(INT_DIR, 'GEO_TABLE.pkl'))\n",
    "    print('Done')\n",
    "    \n",
    "GEO_TABLE = GEO_TABLE[['STUSAB', 'LOGRECNO']+list(set(GEO_TABLE.columns)-set(['STUSAB', 'LOGRECNO']))]\n",
    "GEO_TABLE.STUSAB = GEO_TABLE.STUSAB.str.strip().str.lower()\n",
    "GEO_TABLE.columns = [x.replace('.', '') for x in GEO_TABLE.columns]\n",
    "GEO_TABLE"
   ]
  },
  {
   "cell_type": "code",
   "execution_count": null,
   "metadata": {},
   "outputs": [],
   "source": [
    "GEO_TABLE.iloc[2]"
   ]
  },
  {
   "cell_type": "markdown",
   "metadata": {},
   "source": [
    "---\n",
    "\n",
    "#### Gazeteer File"
   ]
  },
  {
   "cell_type": "code",
   "execution_count": null,
   "metadata": {},
   "outputs": [],
   "source": [
    "GAZ_TABLE = pd.read_csv('/media/school/project/temp_2018-5-year/gaz_tract_2018/2018_Gaz_tracts_national.txt'), sep='\\t')\n",
    "GAZ_TABLE.rename(columns={'USPS': 'STUSAB'}, inplace=True)\n",
    "GAZ_TABLE.STUSAB = GAZ_TABLE.STUSAB.str.strip().str.lower()\n",
    "GAZ_TABLE"
   ]
  },
  {
   "cell_type": "code",
   "execution_count": null,
   "metadata": {},
   "outputs": [],
   "source": [
    "set(GAZ_TABLE.GEOID.values).intersection(set(GEO_TABLE.GEOID.values))"
   ]
  },
  {
   "cell_type": "code",
   "execution_count": null,
   "metadata": {},
   "outputs": [],
   "source": [
    "for state in GAZ_TABLE.STUSAB.unique():\n",
    "    print('')\n",
    "    print(state)\n",
    "    print('GAZ: {}'.format(GAZ_TABLE[GAZ_TABLE.STUSAB==state].GEOID.nunique()))\n",
    "    print('GEO: {}'.format(GEO_TABLE[GEO_TABLE.STUSAB==state].GEOID.nunique()))"
   ]
  },
  {
   "cell_type": "markdown",
   "metadata": {},
   "source": [
    "---"
   ]
  },
  {
   "cell_type": "code",
   "execution_count": null,
   "metadata": {},
   "outputs": [],
   "source": [
    "ESTIMATES_DATA_DICT = SF_DATA_DICT[~SF_DATA_DICT.column.isin(['FILEID', 'FILETYPE', 'CHARITER', 'SEQUENCE'])].reset_index(drop=True)\n",
    "ESTIMATES_DATA_DICT.loc[ESTIMATES_DATA_DICT.column=='STUSAB', 'description'] = 'State ID'\n",
    "ESTIMATES_DATA_DICT.loc[ESTIMATES_DATA_DICT.column=='LOGRECNO', 'description'] = 'Logical Record Number'\n",
    "ESTIMATES_DATA_DICT.head(2)"
   ]
  },
  {
   "cell_type": "code",
   "execution_count": null,
   "metadata": {},
   "outputs": [],
   "source": [
    "ESTIMATES.head(2)"
   ]
  },
  {
   "cell_type": "code",
   "execution_count": null,
   "metadata": {},
   "outputs": [],
   "source": [
    "GEO_DATA_DICT = GEO_DATA_DICT[~GEO_DATA_DICT.column.isin(['FILEID', 'FILETYPE', 'CHARITER', 'SEQUENCE'])].reset_index(drop=True)\n",
    "GEO_DATA_DICT.loc[GEO_DATA_DICT.column=='STUSAB', 'description'] = 'State ID'\n",
    "GEO_DATA_DICT.loc[GEO_DATA_DICT.column=='LOGRECNO', 'description'] = 'Logical Record Number'\n",
    "GEO_DATA_DICT.head(2)"
   ]
  },
  {
   "cell_type": "code",
   "execution_count": null,
   "metadata": {},
   "outputs": [],
   "source": [
    "GEO_TABLE.head(2)"
   ]
  },
  {
   "cell_type": "code",
   "execution_count": null,
   "metadata": {},
   "outputs": [],
   "source": [
    "GAZ_TABLE.head(2)"
   ]
  },
  {
   "cell_type": "code",
   "execution_count": null,
   "metadata": {},
   "outputs": [],
   "source": [
    "OUTPUTS = {\n",
    "    'cen_20191_estimates_dd': ESTIMATES_DATA_DICT,\n",
    "    'cen_20191_estimates': ESTIMATES,\n",
    "    'cen_20191_geo_dd': GEO_DATA_DICT,\n",
    "    'cen_20191_geo': GEO_TABLE,\n",
    "    'cen_20191_gaz': GAZ_TABLE,\n",
    "}\n",
    "\n",
    "for f, df in OUTPUTS.items():\n",
    "    print('Writing {} table'.format(f))\n",
    "    #df.to_csv(os.path.join(RES_DIR, '{}.csv'.format(f)), index=None)\n",
    "    df.to_pickle(os.path.join(RES_DIR, '{}.pkl'.format(f)))"
   ]
  },
  {
   "cell_type": "code",
   "execution_count": null,
   "metadata": {},
   "outputs": [],
   "source": []
  }
 ],
 "metadata": {
  "kernelspec": {
   "display_name": "Python 3",
   "language": "python",
   "name": "python3"
  },
  "language_info": {
   "codemirror_mode": {
    "name": "ipython",
    "version": 3
   },
   "file_extension": ".py",
   "mimetype": "text/x-python",
   "name": "python",
   "nbconvert_exporter": "python",
   "pygments_lexer": "ipython3",
   "version": "3.8.3"
  }
 },
 "nbformat": 4,
 "nbformat_minor": 2
}
