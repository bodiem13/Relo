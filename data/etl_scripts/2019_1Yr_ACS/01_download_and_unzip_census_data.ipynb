{
 "cells": [
  {
   "cell_type": "markdown",
   "metadata": {},
   "source": [
    "Handbooks: https://www.census.gov/programs-surveys/acs/guidance/handbooks.html"
   ]
  },
  {
   "cell_type": "code",
   "execution_count": 1,
   "metadata": {},
   "outputs": [],
   "source": [
    "import os\n",
    "import shutil\n",
    "import zipfile\n",
    "import requests"
   ]
  },
  {
   "cell_type": "code",
   "execution_count": 2,
   "metadata": {},
   "outputs": [],
   "source": [
    "# Set working directory to download and unzip files\n",
    "##########################################################\n",
    "WORK_DIR = 'C:/Users/school/Desktop/DATA_PREP_DIR/'\n",
    "##########################################################"
   ]
  },
  {
   "cell_type": "code",
   "execution_count": 3,
   "metadata": {},
   "outputs": [],
   "source": [
    "def make_dirs(paths):\n",
    "    if not isinstance(paths, (tuple, list, set)):\n",
    "        paths = list(paths)\n",
    "    for p in paths:\n",
    "        try:\n",
    "            os.makedirs(p)\n",
    "        except FileExistsError:\n",
    "            pass\n",
    "        except:\n",
    "            raise    "
   ]
  },
  {
   "cell_type": "code",
   "execution_count": 4,
   "metadata": {},
   "outputs": [],
   "source": [
    "DL_DIR = os.path.join(WORK_DIR, 'DOWNLOADS')\n",
    "make_dirs([WORK_DIR, DL_DIR])"
   ]
  },
  {
   "cell_type": "code",
   "execution_count": 5,
   "metadata": {},
   "outputs": [],
   "source": [
    "# Code to download large files in chunks from web urls\n",
    "# Modified from https://stackoverflow.com/a/16696317\n",
    "def download_file(url, outpath):\n",
    "    local_filename = url.split('/')[-1]\n",
    "    save_path = os.path.join(outpath, local_filename)\n",
    "    # NOTE the stream=True parameter below\n",
    "    with requests.get(url, stream=True) as r:\n",
    "        r.raise_for_status()\n",
    "        with open(save_path, 'wb') as f:\n",
    "            for chunk in r.iter_content(chunk_size=8192): \n",
    "                # If you have chunk encoded response uncomment if\n",
    "                # and set chunk_size parameter to None.\n",
    "                #if chunk: \n",
    "                f.write(chunk)\n",
    "    return save_path\n",
    "\n",
    "# Code to unzip files\n",
    "def unzip(file_path, outpath):\n",
    "    with zipfile.ZipFile(file_path, 'r') as f:\n",
    "        f.extractall(outpath)"
   ]
  },
  {
   "cell_type": "markdown",
   "metadata": {},
   "source": [
    "#### Download and Unzip 2019 Census Tract Info\n",
    " https://www2.census.gov/geo/docs/maps-data/data/gazetteer/2019_Gazetteer/2019_Gaz_tracts_national.zip"
   ]
  },
  {
   "cell_type": "code",
   "execution_count": 6,
   "metadata": {},
   "outputs": [],
   "source": [
    "url = 'https://www2.census.gov/geo/docs/maps-data/data/gazetteer/2019_Gazetteer/2019_Gaz_tracts_national.zip'\n",
    "dl_path = os.path.join(DL_DIR, '2019_acs')\n",
    "unzip_path = os.path.join(os.path.join(WORK_DIR, '2019_acs'), 'gaz_tract')\n",
    "make_dirs([dl_path, unzip_path])\n",
    "save_path = download_file(url, dl_path)\n",
    "unzip(save_path, unzip_path)"
   ]
  },
  {
   "cell_type": "markdown",
   "metadata": {},
   "source": [
    "---\n",
    "\n",
    "## 2019 ACS 1-Year Summary Data\n",
    "\n",
    "2019 summary file info: https://www.census.gov/programs-surveys/acs/technical-documentation/summary-file-documentation.2019.html"
   ]
  },
  {
   "cell_type": "markdown",
   "metadata": {},
   "source": [
    "#### Download and Unzip 2019 ACS 1-year (462 MB zipped, 1.51 GB Unzipped)"
   ]
  },
  {
   "cell_type": "code",
   "execution_count": 7,
   "metadata": {},
   "outputs": [],
   "source": [
    "url = 'https://www2.census.gov/programs-surveys/acs/summary_file/2019/data/1_year_entire_sf/All_Geographies.zip'\n",
    "dl_path = os.path.join(DL_DIR, '2019_acs')\n",
    "unzip_path = os.path.join(os.path.join(WORK_DIR, '2019_acs'), 'sf')\n",
    "make_dirs([dl_path, unzip_path])\n",
    "\n",
    "save_path = download_file(url, dl_path)\n",
    "unzip(save_path, unzip_path)"
   ]
  },
  {
   "cell_type": "markdown",
   "metadata": {},
   "source": [
    "#### Download and Unzip 2019 ACS 1-year SF templates (2 KB zipped, 3 MB Unzipped)"
   ]
  },
  {
   "cell_type": "code",
   "execution_count": 8,
   "metadata": {},
   "outputs": [],
   "source": [
    "url = 'https://www2.census.gov/programs-surveys/acs/summary_file/2019/data/2019_1yr_Summary_FileTemplates.zip'\n",
    "dl_path = os.path.join(DL_DIR, '2019_acs')\n",
    "unzip_path = os.path.join(os.path.join(WORK_DIR, '2019_acs'), 'sf_template')\n",
    "make_dirs([dl_path, unzip_path])\n",
    "\n",
    "save_path = download_file(url, dl_path)\n",
    "unzip(save_path, unzip_path)"
   ]
  },
  {
   "cell_type": "markdown",
   "metadata": {},
   "source": [
    "#### Download 2019 ACS 1-year Geography (350 KB)"
   ]
  },
  {
   "cell_type": "code",
   "execution_count": 9,
   "metadata": {},
   "outputs": [
    {
     "name": "stdout",
     "output_type": "stream",
     "text": [
      "C:/Users/school/Desktop/DATA_PREP_DIR/DOWNLOADS\\2019_acs\\1_year_Mini_Geo.xlsx C:/Users/school/Desktop/DATA_PREP_DIR/2019_acs\\geo\n"
     ]
    },
    {
     "data": {
      "text/plain": [
       "'C:/Users/school/Desktop/DATA_PREP_DIR/2019_acs\\\\geo\\\\1_year_Mini_Geo.xlsx'"
      ]
     },
     "execution_count": 9,
     "metadata": {},
     "output_type": "execute_result"
    }
   ],
   "source": [
    "url = 'https://www2.census.gov/programs-surveys/acs/summary_file/2019/documentation/geography/1_year_Mini_Geo.xlsx'\n",
    "dl_path = os.path.join(DL_DIR, '2019_acs')\n",
    "unzip_path = os.path.join(os.path.join(WORK_DIR, '2019_acs'), 'geo')\n",
    "make_dirs([dl_path, unzip_path])\n",
    "\n",
    "save_path = download_file(url, dl_path)\n",
    "print(save_path, unzip_path)\n",
    "shutil.copy2(save_path, unzip_path)\n",
    "#unzip(save_path, unzip_path)"
   ]
  },
  {
   "cell_type": "code",
   "execution_count": null,
   "metadata": {},
   "outputs": [],
   "source": []
  }
 ],
 "metadata": {
  "kernelspec": {
   "display_name": "Python 3",
   "language": "python",
   "name": "python3"
  },
  "language_info": {
   "codemirror_mode": {
    "name": "ipython",
    "version": 3
   },
   "file_extension": ".py",
   "mimetype": "text/x-python",
   "name": "python",
   "nbconvert_exporter": "python",
   "pygments_lexer": "ipython3",
   "version": "3.7.4"
  }
 },
 "nbformat": 4,
 "nbformat_minor": 2
}
