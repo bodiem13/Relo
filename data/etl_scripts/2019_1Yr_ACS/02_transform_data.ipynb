{
 "cells": [
  {
   "cell_type": "code",
   "execution_count": 1,
   "metadata": {},
   "outputs": [],
   "source": [
    "import os\n",
    "from functools import reduce\n",
    "import pickle\n",
    "import pandas as pd"
   ]
  },
  {
   "cell_type": "code",
   "execution_count": 2,
   "metadata": {},
   "outputs": [
    {
     "name": "stdout",
     "output_type": "stream",
     "text": [
      "[WinError 183] Cannot create a file when that file already exists: 'C:/Users/school/Desktop/DATA_PREP_DIR/INTERMEDIATE_DATA'\n"
     ]
    }
   ],
   "source": [
    "#################################\n",
    "WORK_DIR = 'C:/Users/school/Desktop/DATA_PREP_DIR/'\n",
    "IGNORE_PICKLES = False # refreshes data from scratch when True\n",
    "#################################\n",
    "\n",
    "# Directories that exist\n",
    "SF_DIR = os.path.join(WORK_DIR, '2019_acs/sf')\n",
    "SF_TEMPLATE_DIR = os.path.join(WORK_DIR, '2019_acs/sf_template')\n",
    "\n",
    "# Directories created by this script\n",
    "INT_DIR = os.path.join(WORK_DIR, 'INTERMEDIATE_DATA')\n",
    "\n",
    "try:\n",
    "    os.makedirs(INT_DIR)\n",
    "except Exception as e:\n",
    "    print(e)"
   ]
  },
  {
   "cell_type": "code",
   "execution_count": 3,
   "metadata": {},
   "outputs": [],
   "source": [
    "def save_pkl(file_path, data):\n",
    "    with open(file_path, 'wb') as handle:\n",
    "        pickle.dump(data, handle, protocol=pickle.HIGHEST_PROTOCOL)\n",
    "\n",
    "def read_pkl(file_path):\n",
    "    with open(file_path, 'rb') as handle:\n",
    "        data = pickle.load(handle)\n",
    "        return data"
   ]
  },
  {
   "cell_type": "markdown",
   "metadata": {},
   "source": [
    "Summary files start with e, m, or g, indicating:\n",
    "\n",
    "* e: estimates\n",
    "* m: margins of error\n",
    "* g: geography files"
   ]
  },
  {
   "cell_type": "code",
   "execution_count": 4,
   "metadata": {},
   "outputs": [],
   "source": [
    "sf_files = os.listdir(SF_DIR)\n",
    "# verify present files fall into the three categories, as denoted by first letter of filename\n",
    "for first_letter in [x[0] for x in sf_files]:\n",
    "    assert first_letter in ['e', 'm', 'g']"
   ]
  },
  {
   "cell_type": "markdown",
   "metadata": {},
   "source": [
    "#### Build 'Estimates' Data Dict"
   ]
  },
  {
   "cell_type": "code",
   "execution_count": 5,
   "metadata": {},
   "outputs": [
    {
     "data": {
      "text/html": [
       "<div>\n",
       "<style scoped>\n",
       "    .dataframe tbody tr th:only-of-type {\n",
       "        vertical-align: middle;\n",
       "    }\n",
       "\n",
       "    .dataframe tbody tr th {\n",
       "        vertical-align: top;\n",
       "    }\n",
       "\n",
       "    .dataframe thead th {\n",
       "        text-align: right;\n",
       "    }\n",
       "</style>\n",
       "<table border=\"1\" class=\"dataframe\">\n",
       "  <thead>\n",
       "    <tr style=\"text-align: right;\">\n",
       "      <th></th>\n",
       "      <th>column</th>\n",
       "      <th>description</th>\n",
       "    </tr>\n",
       "  </thead>\n",
       "  <tbody>\n",
       "    <tr>\n",
       "      <td>0</td>\n",
       "      <td>FILEID</td>\n",
       "      <td>FILEID</td>\n",
       "    </tr>\n",
       "    <tr>\n",
       "      <td>1</td>\n",
       "      <td>FILETYPE</td>\n",
       "      <td>FILETYPE</td>\n",
       "    </tr>\n",
       "    <tr>\n",
       "      <td>2</td>\n",
       "      <td>STUSAB</td>\n",
       "      <td>STUSAB</td>\n",
       "    </tr>\n",
       "    <tr>\n",
       "      <td>3</td>\n",
       "      <td>CHARITER</td>\n",
       "      <td>CHARITER</td>\n",
       "    </tr>\n",
       "    <tr>\n",
       "      <td>4</td>\n",
       "      <td>SEQUENCE</td>\n",
       "      <td>SEQUENCE</td>\n",
       "    </tr>\n",
       "    <tr>\n",
       "      <td>...</td>\n",
       "      <td>...</td>\n",
       "      <td>...</td>\n",
       "    </tr>\n",
       "    <tr>\n",
       "      <td>35528</td>\n",
       "      <td>C23002C_023</td>\n",
       "      <td>SEX BY AGE BY EMPLOYMENT STATUS FOR THE POPULA...</td>\n",
       "    </tr>\n",
       "    <tr>\n",
       "      <td>35529</td>\n",
       "      <td>C23002C_024</td>\n",
       "      <td>SEX BY AGE BY EMPLOYMENT STATUS FOR THE POPULA...</td>\n",
       "    </tr>\n",
       "    <tr>\n",
       "      <td>35530</td>\n",
       "      <td>C23002C_025</td>\n",
       "      <td>SEX BY AGE BY EMPLOYMENT STATUS FOR THE POPULA...</td>\n",
       "    </tr>\n",
       "    <tr>\n",
       "      <td>35531</td>\n",
       "      <td>C23002C_026</td>\n",
       "      <td>SEX BY AGE BY EMPLOYMENT STATUS FOR THE POPULA...</td>\n",
       "    </tr>\n",
       "    <tr>\n",
       "      <td>35532</td>\n",
       "      <td>C23002C_027</td>\n",
       "      <td>SEX BY AGE BY EMPLOYMENT STATUS FOR THE POPULA...</td>\n",
       "    </tr>\n",
       "  </tbody>\n",
       "</table>\n",
       "<p>35533 rows × 2 columns</p>\n",
       "</div>"
      ],
      "text/plain": [
       "            column                                        description\n",
       "0           FILEID                                             FILEID\n",
       "1         FILETYPE                                           FILETYPE\n",
       "2           STUSAB                                             STUSAB\n",
       "3         CHARITER                                           CHARITER\n",
       "4         SEQUENCE                                           SEQUENCE\n",
       "...            ...                                                ...\n",
       "35528  C23002C_023  SEX BY AGE BY EMPLOYMENT STATUS FOR THE POPULA...\n",
       "35529  C23002C_024  SEX BY AGE BY EMPLOYMENT STATUS FOR THE POPULA...\n",
       "35530  C23002C_025  SEX BY AGE BY EMPLOYMENT STATUS FOR THE POPULA...\n",
       "35531  C23002C_026  SEX BY AGE BY EMPLOYMENT STATUS FOR THE POPULA...\n",
       "35532  C23002C_027  SEX BY AGE BY EMPLOYMENT STATUS FOR THE POPULA...\n",
       "\n",
       "[35533 rows x 2 columns]"
      ]
     },
     "execution_count": 5,
     "metadata": {},
     "output_type": "execute_result"
    }
   ],
   "source": [
    "# Build data dictionary of encoded column name: description\n",
    "SF_DATA_DICT_dict = {}\n",
    "for f in os.listdir(SF_TEMPLATE_DIR):\n",
    "    if not f.startswith('seq'):\n",
    "        continue\n",
    "    file_path = os.path.join(SF_TEMPLATE_DIR, f)\n",
    "    template_data = pd.read_excel(file_path, sheet_name='e')\n",
    "    mapping = dict(zip(template_data.columns, template_data.iloc[0]))\n",
    "    SF_DATA_DICT_dict.update(mapping)\n",
    "SF_DATA_DICT = pd.Series(SF_DATA_DICT_dict).reset_index()\n",
    "SF_DATA_DICT.columns = ['column', 'description']\n",
    "SF_DATA_DICT.to_pickle(os.path.join(INT_DIR, 'SF_DATA_DICT.pkl'))\n",
    "SF_DATA_DICT"
   ]
  },
  {
   "cell_type": "markdown",
   "metadata": {},
   "source": [
    "#### Build 'Estimates' table"
   ]
  },
  {
   "cell_type": "code",
   "execution_count": 6,
   "metadata": {},
   "outputs": [],
   "source": [
    "# First, prepare dict of {<int>seq: column names} for estimates to speed up lookups\n",
    "COL_NAME_LU = {}\n",
    "for template in os.listdir(SF_TEMPLATE_DIR):\n",
    "    if not template.startswith('seq'):\n",
    "        continue\n",
    "    seq = int(template.split('.')[0][3:])\n",
    "    columns = pd.read_excel(os.path.join(SF_TEMPLATE_DIR, template), sheet_name='e').columns\n",
    "    COL_NAME_LU[seq] = columns"
   ]
  },
  {
   "cell_type": "code",
   "execution_count": null,
   "metadata": {},
   "outputs": [
    {
     "name": "stdout",
     "output_type": "stream",
     "text": [
      "Percent complete: 2.44%"
     ]
    }
   ],
   "source": [
    "if IGNORE_PICKLES:\n",
    "    # build dataframes by state, then later all data will be concatenated\n",
    "    # This makes things more efficient due to the large volume of tables.\n",
    "    RESULTS = {}\n",
    "    sf_e_files = [x for x in sf_files if x[0]=='e']\n",
    "    for i, f in enumerate(sf_e_files):\n",
    "        print('\\rPercent complete: {}%'.format(round((float(i+1)/len(sf_e_files))*100., 2)), end='')\n",
    "        # get filetype\n",
    "        ftype = f[0]\n",
    "        # get path to file for reading\n",
    "        file_path = os.path.join(SF_DIR, f)\n",
    "        # get state\n",
    "        state = f[6:8]\n",
    "        # get sequence\n",
    "        seq = int(f[8:12])\n",
    "        # look up column names for this file\n",
    "        columns = COL_NAME_LU[seq]\n",
    "        # read the data and set the appropriate column names\n",
    "        data = pd.read_csv(file_path, header=None, names=columns)\n",
    "        # drop unnecessary columns\n",
    "        data.drop(columns=['FILEID', 'FILETYPE', 'CHARITER', 'SEQUENCE'], inplace=True)\n",
    "        # set index for concatenation - needed because `.merge()` on\n",
    "        # this many files takes FOREVER.\n",
    "        data.set_index(['STUSAB','LOGRECNO'], inplace=True)\n",
    "\n",
    "        # merge data for current state\n",
    "        if state not in RESULTS.keys():\n",
    "            RESULTS[state] = data\n",
    "        else:\n",
    "            RESULTS[state] = pd.concat([RESULTS[state], data], axis=1)\n",
    "\n",
    "\n",
    "    save_pkl(os.path.join(INT_DIR, 'RESULTS.pkl'), RESULTS)\n",
    "    print('\\nDone!\\nNumber of states processed: {}'.format(len(RESULTS)))\n",
    "else:\n",
    "    print('Loading previous result...')\n",
    "    RESULTS = read_pkl(os.path.join(INT_DIR, 'RESULTS.pkl'))\n",
    "    print('Done')"
   ]
  },
  {
   "cell_type": "code",
   "execution_count": null,
   "metadata": {},
   "outputs": [],
   "source": [
    "print('Concatenating results...')\n",
    "\n",
    "if IGNORE_PICKLES:\n",
    "    # Reset indicies\n",
    "    for i, (state, df) in enumerate(RESULTS.items()):\n",
    "        df.reset_index(inplace=True)\n",
    "\n",
    "    # Concatenate tables from different states\n",
    "    ESTIMATES = pd.concat([df for df in RESULTS.values()])\n",
    "    ESTIMATES.to_pickle(os.path.join(INT_DIR, 'ESTIMATES.pkl'))\n",
    "else:\n",
    "    print('Loading previous result...')\n",
    "    ESTIMATES = read_pkl(os.path.join(INT_DIR, 'ESTIMATES.pkl'))\n",
    "    print('Done')    \n",
    "\n",
    "del RESULTS\n",
    "ESTIMATES"
   ]
  },
  {
   "cell_type": "markdown",
   "metadata": {},
   "source": [
    "#### Bring in Geo Data"
   ]
  },
  {
   "cell_type": "code",
   "execution_count": null,
   "metadata": {},
   "outputs": [],
   "source": [
    "GEO_PATH = os.path.join(WORK_DIR, '2019_acs/geo/1_year_Mini_Geo.xlsx')\n",
    "geo = pd.read_excel(GEO_PATH, sheet_name=None)\n",
    "geo[list(geo.keys())[5]]"
   ]
  },
  {
   "cell_type": "code",
   "execution_count": null,
   "metadata": {},
   "outputs": [],
   "source": [
    "# Combine all sheets from geo file into single table\n",
    "for i, (sheet, data) in enumerate(geo.items()):\n",
    "    print('\\rPercent complete: {}%'.format(round((float(i+1)/len(geo))*100., 2)), end='')\n",
    "    # rename columns so state and log rec no are the same names\n",
    "    data.rename(columns={\n",
    "        'State': 'STUSAB',\n",
    "        'Logical Record Number': 'LOGRECNO',\n",
    "        'Geography ID': 'GEOID',\n",
    "        'Geography Name': 'GEONAME'}, inplace=True)\n",
    "    # set the state abbrev to lowercase to match the summary data for the join\n",
    "    data.STUSAB = data.STUSAB.str.strip().str.lower()\n",
    "\n",
    "geo_prep = pd.concat(geo.values())\n",
    "geo_prep"
   ]
  },
  {
   "cell_type": "code",
   "execution_count": null,
   "metadata": {},
   "outputs": [],
   "source": [
    "# Merge geo data into ESTIMATES\n",
    "ESTIMATES_GEO = ESTIMATES.sort_index(axis=1).merge(geo_prep, on=['STUSAB', 'LOGRECNO'], how='left')\n",
    "ESTIMATES_GEO"
   ]
  },
  {
   "cell_type": "code",
   "execution_count": null,
   "metadata": {},
   "outputs": [],
   "source": [
    "# reorder columns\n",
    "info_cols = ['STUSAB', 'LOGRECNO', 'FILEID', 'FILETYPE', 'CHARITER', 'SEQUENCE', 'GEOID', 'GEONAME']\n",
    "all_other_cols = sorted(list(set(ESTIMATES_GEO.columns)-set(info_cols)))\n",
    "ESTIMATES_GEO = ESTIMATES_GEO[info_cols + all_other_cols]\n",
    "ESTIMATES_GEO"
   ]
  },
  {
   "cell_type": "code",
   "execution_count": null,
   "metadata": {},
   "outputs": [],
   "source": [
    "from collections import defaultdict\n",
    "counts = defaultdict(int)\n",
    "for col in ESTIMATES_GEO.columns:\n",
    "    counts[col] += 1\n",
    "\n",
    "for k,v in counts.items():\n",
    "    if v > 1:\n",
    "        print(k)"
   ]
  },
  {
   "cell_type": "code",
   "execution_count": null,
   "metadata": {},
   "outputs": [],
   "source": []
  }
 ],
 "metadata": {
  "kernelspec": {
   "display_name": "Python 3",
   "language": "python",
   "name": "python3"
  },
  "language_info": {
   "codemirror_mode": {
    "name": "ipython",
    "version": 3
   },
   "file_extension": ".py",
   "mimetype": "text/x-python",
   "name": "python",
   "nbconvert_exporter": "python",
   "pygments_lexer": "ipython3",
   "version": "3.7.4"
  }
 },
 "nbformat": 4,
 "nbformat_minor": 2
}
