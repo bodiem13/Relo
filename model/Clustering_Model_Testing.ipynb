{
 "cells": [
  {
   "cell_type": "markdown",
   "metadata": {},
   "source": [
    "# Preliminaries"
   ]
  },
  {
   "cell_type": "markdown",
   "metadata": {},
   "source": [
    "## Libraries"
   ]
  },
  {
   "cell_type": "code",
   "execution_count": null,
   "metadata": {},
   "outputs": [],
   "source": [
    "import time\n",
    "import itertools\n",
    "from itertools import cycle\n",
    "\n",
    "# Data Handling\n",
    "import pandas as pd\n",
    "import numpy as np\n",
    "from scipy import linalg\n",
    "\n",
    "from sklearn.preprocessing import scale, normalize, StandardScaler, MinMaxScaler\n",
    "from sklearn.impute import SimpleImputer\n",
    "\n",
    "# Dimensionality Reduction\n",
    "from sklearn.decomposition import PCA\n",
    "from sklearn.manifold import TSNE\n",
    "\n",
    "# Clustering\n",
    "from sklearn.cluster import KMeans, MiniBatchKMeans, SpectralClustering, DBSCAN, OPTICS, cluster_optics_dbscan, AgglomerativeClustering, Birch\n",
    "from scipy.cluster import hierarchy\n",
    "import hdbscan\n",
    "from kemlglearn.cluster.consensus import SimpleConsensusClustering\n",
    "import openensembles as oe\n",
    "# Not scalable with n_samples\n",
    "from sklearn.cluster import MeanShift, AffinityPropagation\n",
    "from sklearn.cluster import estimate_bandwidth\n",
    "from sklearn.mixture import GaussianMixture\n",
    "\n",
    "# Evaluation\n",
    "from pyclustertend import hopkins, vat, ivat\n",
    "from yellowbrick.cluster import KElbowVisualizer\n",
    "from kneed import KneeLocator\n",
    "import gapstat_rs\n",
    "from gap_statistic import OptimalK\n",
    "from sklearn import metrics\n",
    "from sklearn.metrics import silhouette_score\n",
    "from amltlearn.metrics.cluster import calinski_harabasz_score, davies_bouldin_score\n",
    "\n",
    "# Visualization\n",
    "import matplotlib.pyplot as plt\n",
    "from matplotlib import cm\n",
    "from matplotlib import animation\n",
    "import matplotlib.gridspec as gridspec\n",
    "import mpl_toolkits.mplot3d.axes3d as p3\n",
    "from mpl_toolkits.mplot3d import Axes3D\n",
    "import seaborn as sns\n",
    "from pylab import *\n",
    "import plotly\n",
    "import plotly.express as px\n",
    "import plotly.graph_objs as go\n",
    "\n",
    "%matplotlib inline \n",
    "sns.set_context('poster')\n",
    "sns.set_color_codes()\n",
    "plot_kwds = {'alpha' : 0.25, 's' : 80, 'linewidths':0}"
   ]
  },
  {
   "cell_type": "markdown",
   "metadata": {},
   "source": [
    "## Functions"
   ]
  },
  {
   "cell_type": "code",
   "execution_count": null,
   "metadata": {},
   "outputs": [],
   "source": [
    "def plot_corr(df):\n",
    "    corr = df.corr()\n",
    "    mask = np.zeros_like(corr, dtype=np.bool)\n",
    "    mask[np.triu_indices_from(mask)] = True\n",
    "    f, ax = plt.subplots(figsize=(11, 9))\n",
    "    cmap = sns.diverging_palette(220, 10, as_cmap=True)\n",
    "    sns.heatmap(corr, mask=mask, cmap=cmap, vmax=.3, center=0,\n",
    "                square=True, linewidths=.5, cbar_kws={\"shrink\": .5})"
   ]
  },
  {
   "cell_type": "code",
   "execution_count": null,
   "metadata": {},
   "outputs": [],
   "source": [
    "# The \"Gap Statistic\" module allows using any clustering algorithm\n",
    "# This function takes X (data) k, and func (the chosen clustering algorithm)\n",
    "# It returns a tuple of the centorid locations, and the labels assigned to X\n",
    "\n",
    "def special_clustering_func(X, k, func):\n",
    "    \"\"\" \n",
    "    Special clustering function which uses the MeanShift\n",
    "    model from sklearn.\n",
    "    \n",
    "    These user defined functions *must* take the X and a k \n",
    "    and can take an arbitrary number of other kwargs, which can\n",
    "    be pass with `clusterer_kwargs` when initializing OptimalK\n",
    "    \"\"\"\n",
    "    \n",
    "    # Here you can do whatever clustering algorithm you heart desires,\n",
    "    # but we'll do a simple wrap of the MeanShift model in sklearn.\n",
    "    \n",
    "    m = func\n",
    "    m.fit(X)\n",
    "    \n",
    "    # Return the location of each cluster center,\n",
    "    # and the labels for each point.\n",
    "    return m.cluster_centers_, m.predict(X)"
   ]
  },
  {
   "cell_type": "code",
   "execution_count": null,
   "metadata": {},
   "outputs": [],
   "source": [
    "def prepare_pca(n_components, data, labels):\n",
    "    matrix = PCA(n_components=n_components, svd_solver='full').fit_transform(data)\n",
    "    \n",
    "    names = ['x', 'y', 'z']\n",
    "    df_matrix = pd.DataFrame(matrix)\n",
    "    df_matrix.rename({i:names[i] for i in range(n_components)}, axis=1, inplace=True)\n",
    "    df_matrix['labels'] = labels\n",
    "    \n",
    "    return df_matrix"
   ]
  },
  {
   "cell_type": "code",
   "execution_count": null,
   "metadata": {},
   "outputs": [],
   "source": [
    "def prepare_tsne(n_components, data, labels):\n",
    "    pca = PCA(.95, svd_solver='full') \n",
    "    X_pca = pca_n.fit_transform(data)\n",
    "    \n",
    "    tsne = TSNE(n_components=n_components, verbose=0, perplexity=40, n_iter=300)\n",
    "    matrix = tsne.fit_transform(X_pca)\n",
    "    \n",
    "    names = ['x', 'y', 'z']\n",
    "    df_matrix = pd.DataFrame(matrix)\n",
    "    df_matrix.rename({i:names[i] for i in range(n_components)}, axis=1, inplace=True)\n",
    "    df_matrix['labels'] = labels\n",
    "    \n",
    "    return df_matrix"
   ]
  },
  {
   "cell_type": "markdown",
   "metadata": {},
   "source": [
    "# Preprocess Data"
   ]
  },
  {
   "cell_type": "markdown",
   "metadata": {},
   "source": [
    "## Load Data"
   ]
  },
  {
   "cell_type": "code",
   "execution_count": null,
   "metadata": {},
   "outputs": [],
   "source": [
    "df = pd.read_pickle(r'2018_5yr_cendatagov_ESTIMATES_v3.pkl')"
   ]
  },
  {
   "cell_type": "code",
   "execution_count": null,
   "metadata": {},
   "outputs": [],
   "source": [
    "df.shape"
   ]
  },
  {
   "cell_type": "markdown",
   "metadata": {},
   "source": [
    "## Null Values"
   ]
  },
  {
   "cell_type": "code",
   "execution_count": null,
   "metadata": {},
   "outputs": [],
   "source": [
    "df.dropna(axis=1, how='any', inplace=True)"
   ]
  },
  {
   "cell_type": "code",
   "execution_count": null,
   "metadata": {},
   "outputs": [],
   "source": [
    "df.shape"
   ]
  },
  {
   "cell_type": "markdown",
   "metadata": {},
   "source": [
    "## Preprocessing Steps"
   ]
  },
  {
   "cell_type": "markdown",
   "metadata": {},
   "source": [
    "##### Sources\n",
    "\n",
    "https://scikit-learn.org/stable/modules/preprocessing.html\n",
    "\n",
    "https://scikit-learn.org/stable/auto_examples/preprocessing/plot_scaling_importance.html#sphx-glr-auto-examples-preprocessing-plot-scaling-importance-py"
   ]
  },
  {
   "cell_type": "markdown",
   "metadata": {},
   "source": [
    "Scaling features is a requirement for the optimal performance of many machine learning algorithms.\n",
    "\n",
    "Use StandardScaler to help standardize the dataset’s features onto unit scale (mean = 0 and variance = 1).\n",
    "\n",
    "Use the MinMaxScaler for feature scaling when we do not assume that the shape of all the features follows a normal distribution."
   ]
  },
  {
   "cell_type": "code",
   "execution_count": null,
   "metadata": {},
   "outputs": [],
   "source": [
    "# Gather all the values from the feature columns of the dataframe\n",
    "X_raw = df[df.columns[~df.columns.isin([\"GEOID\",\"GEO_ID\",\"NAME\"])]].values"
   ]
  },
  {
   "cell_type": "code",
   "execution_count": null,
   "metadata": {},
   "outputs": [],
   "source": [
    "# Use StandardScaler to help standardize the dataset’s features onto unit scale (mean = 0 and variance = 1)\n",
    "X = StandardScaler().fit_transform(X_raw)"
   ]
  },
  {
   "cell_type": "markdown",
   "metadata": {},
   "source": [
    "### Subset Data"
   ]
  },
  {
   "cell_type": "code",
   "execution_count": null,
   "metadata": {},
   "outputs": [],
   "source": [
    "df = df.sample(n=10000, axis=0).reset_index(drop=True)"
   ]
  },
  {
   "cell_type": "code",
   "execution_count": null,
   "metadata": {},
   "outputs": [],
   "source": [
    "df.shape"
   ]
  },
  {
   "cell_type": "code",
   "execution_count": null,
   "metadata": {},
   "outputs": [],
   "source": [
    "X_raw = df[df.columns[~df.columns.isin([\"GEOID\",\"GEO_ID\",\"NAME\"])]].values"
   ]
  },
  {
   "cell_type": "code",
   "execution_count": null,
   "metadata": {},
   "outputs": [],
   "source": [
    "X = StandardScaler().fit_transform(X_raw)"
   ]
  },
  {
   "cell_type": "markdown",
   "metadata": {},
   "source": [
    "# Explorartory Data Analysis"
   ]
  },
  {
   "cell_type": "markdown",
   "metadata": {},
   "source": [
    "## Correlation Matrix"
   ]
  },
  {
   "cell_type": "markdown",
   "metadata": {},
   "source": [
    "##### Sources\n",
    "\n",
    "https://www.geeksforgeeks.org/multidimensional-data-analysis-in-python/"
   ]
  },
  {
   "cell_type": "code",
   "execution_count": null,
   "metadata": {},
   "outputs": [],
   "source": [
    "# generating correlation heatmap \n",
    "sns.heatmap(df[df.columns[~df.columns.isin([\"GEOID\",\"GEO_ID\",\"NAME\"])]].corr(), annot = True) \n",
    "  \n",
    "# posting correlation heatmap to output console  \n",
    "plt.show() "
   ]
  },
  {
   "cell_type": "code",
   "execution_count": null,
   "metadata": {},
   "outputs": [],
   "source": [
    "#plot_corr(df)"
   ]
  },
  {
   "cell_type": "markdown",
   "metadata": {},
   "source": [
    "### Trisurface Plot for Correlation Matrix"
   ]
  },
  {
   "cell_type": "code",
   "execution_count": null,
   "metadata": {},
   "outputs": [],
   "source": [
    "# generating correlation data \n",
    "df = df[df.columns[~df.columns.isin([\"GEOID\",\"GEO_ID\",\"NAME\"])]].corr() \n",
    "df.index = range(0, len(df)) \n",
    "df.rename(columns = dict(zip(df.columns, df.index)), inplace = True) \n",
    "df = df.astype(object) \n",
    "  \n",
    "# Generating coordinates with corresponding correlation values \n",
    "for i in range(0, len(df)): \n",
    "    for j in range(0, len(df)): \n",
    "        if i != j: \n",
    "            df.iloc[i, j] = (i, j, df.iloc[i, j]) \n",
    "        else: \n",
    "            df.iloc[i, j] = (i, j, 0) \n",
    "\n",
    "df_list = [] \n",
    "  \n",
    "# flattening dataframe values \n",
    "for sub_list in df.values: \n",
    "    df_list.extend(sub_list) \n",
    "\n",
    "# converting list of tuples into trivariate dataframe \n",
    "plot_df = pd.DataFrame(df_list) \n",
    "  \n",
    "fig = plt.figure() \n",
    "ax = Axes3D(fig) \n",
    "  \n",
    "# plotting 3D trisurface plot \n",
    "ax.plot_trisurf(plot_df[0], plot_df[1], plot_df[2],  \n",
    "                    cmap = cm.jet, linewidth = 0.2) \n",
    "  \n",
    "plt.show() "
   ]
  },
  {
   "cell_type": "markdown",
   "metadata": {},
   "source": [
    "## Cluster Tendency"
   ]
  },
  {
   "cell_type": "markdown",
   "metadata": {},
   "source": [
    "##### Sources\n",
    "\n",
    "https://pypi.org/project/pyclustertend/\n",
    "\n",
    "https://pyclustertend.readthedocs.io/en/latest/\n",
    "\n",
    "https://www.kaggle.com/lachhebo/hopkins-test\n",
    "\n",
    "https://medium.com/@stevenzook_98922/regarding-the-hopkins-test-beware-of-the-implementation-you-use-as-the-value-returned-may-be-2f6db7849987\n",
    "\n",
    "https://www.datanovia.com/en/lessons/assessing-clustering-tendency/\n",
    "\n",
    "https://stats.stackexchange.com/questions/332651/validating-cluster-tendency-using-hopkins-statistic"
   ]
  },
  {
   "cell_type": "markdown",
   "metadata": {},
   "source": [
    "Before applying any clustering method on the data, it’s important to evaluate whether the data sets contains meaningful clusters (i.e.: non-random structures) or not. This process is defined as the assessing of clustering tendency or the feasibility of the clustering analysis."
   ]
  },
  {
   "cell_type": "code",
   "execution_count": null,
   "metadata": {},
   "outputs": [],
   "source": [
    "# Scale the data\n",
    "X_scale = scale(X_raw)"
   ]
  },
  {
   "cell_type": "markdown",
   "metadata": {},
   "source": [
    "### Hopkins Test"
   ]
  },
  {
   "cell_type": "markdown",
   "metadata": {},
   "source": [
    "The Hopkins statistic is used to assess the clustering tendency of a data set by measuring the probability that a given data set is generated by a uniform data distribution. In other words, it tests the spatial randomness of the data.\n",
    "\n",
    "Three different results are possible: 1) H = 0.5: the dataset reveals no clustering structure in the formula; 2) H close to 0, a significant evidence that the data might be cluster-able; 3) H is close to 1, in this case the test is indecisive (data are neither clustered nor random)"
   ]
  },
  {
   "cell_type": "code",
   "execution_count": null,
   "metadata": {},
   "outputs": [],
   "source": [
    "#hopkins(X_scale, X_scale.shape[0])"
   ]
  },
  {
   "cell_type": "markdown",
   "metadata": {},
   "source": [
    "### VAT"
   ]
  },
  {
   "cell_type": "markdown",
   "metadata": {},
   "source": [
    "VAT (visual assessment of tendency) is an algorithm which creates a visualisation of a specific dataset, which can be useful to obtain an insight on the number of clusters and cluster hierarchy. "
   ]
  },
  {
   "cell_type": "code",
   "execution_count": null,
   "metadata": {},
   "outputs": [],
   "source": [
    "#vat(X_scale)"
   ]
  },
  {
   "cell_type": "code",
   "execution_count": null,
   "metadata": {},
   "outputs": [],
   "source": [
    "# The ivat algorithm is a improved version of the vat algorithm which produce more precise images at the cost of a heavier computing cost\n",
    "#ivat(X_scale)"
   ]
  },
  {
   "cell_type": "markdown",
   "metadata": {},
   "source": [
    "# Dimensionality Reduction"
   ]
  },
  {
   "cell_type": "markdown",
   "metadata": {},
   "source": [
    "## PCA"
   ]
  },
  {
   "cell_type": "markdown",
   "metadata": {},
   "source": [
    "##### Sources\n",
    "\n",
    "https://towardsdatascience.com/pca-using-python-scikit-learn-e653f8989e60\n",
    "\n",
    "https://jakevdp.github.io/PythonDataScienceHandbook/05.09-principal-component-analysis.html#Choosing-the-number-of-components"
   ]
  },
  {
   "cell_type": "markdown",
   "metadata": {},
   "source": [
    "PCA works by using orthogonal transformations to convert correlates features into a set of values of linearly uncorrelated features. What is left are features that contain the largest possible variance. One of the most important applications of PCA is for speeding up machine learning algorithms. \n",
    "\n",
    "Although PCA might be successful in reducing the dimensionality of the data, it does not seem to visualize clusters very intuitively. This happens often with high dimensional data because it is typically clustered around the same point and PCA extracts that information."
   ]
  },
  {
   "cell_type": "markdown",
   "metadata": {},
   "source": [
    "### Inspect the Coordinates of the Right-Singular Vectors"
   ]
  },
  {
   "cell_type": "code",
   "execution_count": null,
   "metadata": {},
   "outputs": [],
   "source": [
    "# Print the shape\n",
    "print(\"X:\", X.shape)\n",
    "\n",
    "# Find the minimum dimension\n",
    "s = min(X.shape)\n",
    "print(\"s = min({}, {}) == {}\".format(X.shape[0], X.shape[1], s))"
   ]
  },
  {
   "cell_type": "code",
   "execution_count": null,
   "metadata": {},
   "outputs": [],
   "source": [
    "# Singular Value Decomposition\n",
    "U, Sigma, VT = np.linalg.svd(X, full_matrices=False)\n",
    "\n",
    "print(\"U:\", U.shape)\n",
    "print(\"Sigma:\", Sigma.shape)\n",
    "print(\"VT:\", VT.shape)"
   ]
  },
  {
   "cell_type": "code",
   "execution_count": null,
   "metadata": {},
   "outputs": [],
   "source": [
    "# Inspect the coordinates of the top two (k_approx, below) right-singular vectors\n",
    "m, d = X.shape\n",
    "k_approx = 2\n",
    "assert k_approx <= s\n",
    "\n",
    "# Plot the components of the first k_approx=2 singular vectors\n",
    "fig, axs = plt.subplots(1, k_approx, sharex=True, sharey=True,\n",
    "                        figsize=(10*k_approx, 10))\n",
    "for k in range(k_approx):\n",
    "    axs[k].scatter(np.arange(min(m, d)), VT[k, :].T)"
   ]
  },
  {
   "cell_type": "markdown",
   "metadata": {},
   "source": [
    "### 2D Scatter Plot"
   ]
  },
  {
   "cell_type": "code",
   "execution_count": null,
   "metadata": {},
   "outputs": [],
   "source": [
    "# PCA with sklearn\n",
    "\n",
    "pca = PCA(n_components=2)\n",
    "X_pca = pca.fit_transform(X)\n",
    "\n",
    "print('Explained variation per principal component: {} \\n'\n",
    "      .format(pca.explained_variance_ratio_))\n",
    "\n",
    "print('Cumulative explained variation of the principal components: {}'.format(np.sum(pca.explained_variance_ratio_)))"
   ]
  },
  {
   "cell_type": "code",
   "execution_count": null,
   "metadata": {},
   "outputs": [],
   "source": [
    "# It's possible to take the original data and project it onto the 2-dimensional subspace defined by the first two right-singular vectors.\n",
    "df_pca = pd.DataFrame(data=X_pca, columns=['component_1', 'component_2'])\n",
    "\n",
    "fig = plt.figure(figsize=(10, 10))\n",
    "\n",
    "plt.scatter(df_pca[\"component_1\"], df_pca[\"component_2\"])\n",
    "\n",
    "ax = plt.gca()\n",
    "ax.axis('square')"
   ]
  },
  {
   "cell_type": "markdown",
   "metadata": {},
   "source": [
    "## t-SNE\n",
    "### (with Prior Dimensionality Reduction)"
   ]
  },
  {
   "cell_type": "markdown",
   "metadata": {},
   "source": [
    "##### Sources\n",
    "\n",
    "https://towardsdatascience.com/visualising-high-dimensional-datasets-using-pca-and-t-sne-in-python-8ef87e7915b"
   ]
  },
  {
   "cell_type": "markdown",
   "metadata": {},
   "source": [
    "t-Distributed Stochastic Neighbor Embedding (t-SNE) is another technique for dimensionality reduction and is particularly well suited for the visualization of high-dimensional datasets. Contrary to PCA it is not a mathematical technique but a probablistic one.\n",
    "\n",
    "t-SNE minimizes the divergence between two distributions: a distribution that measures pairwise similarities of the input objects and a distribution that measures pairwise similarities of the corresponding low-dimensional points in the embedding\n",
    "\n",
    "Since t-SNE scales quadratically in the number of objects N, its applicability is limited to data sets with only a few thousand input objects; beyond that, learning becomes too slow to be practical (and the memory requirements become too large)\n",
    "\n",
    "It is highly recommended to use another dimensionality reduction method (e.g. PCA for dense data or TruncatedSVD for sparse data) before using t-SNE to reduce the number of dimensions to a reasonable amount (e.g. 50) if the number of features is very high."
   ]
  },
  {
   "cell_type": "code",
   "execution_count": null,
   "metadata": {},
   "outputs": [],
   "source": [
    "# scikit-learn chooses the minimum number of principal components such that 95% of the variance is retained.\n",
    "#pca = PCA(.95, svd_solver='full') \n",
    "\n",
    "# Select the number of components for PCA\n",
    "pca_n = PCA(n_components=50, svd_solver='full')\n",
    "X_pca_n = pca_n.fit_transform(X)\n",
    "\n",
    "# The explained variance tells you how much information (variance) can be attributed to each of the principal components.\n",
    "print('Cumulative explained variation for the principal components: {}'.format(np.sum(pca_n.explained_variance_ratio_)))"
   ]
  },
  {
   "cell_type": "code",
   "execution_count": null,
   "metadata": {},
   "outputs": [],
   "source": [
    "time_start = time.time()\n",
    "\n",
    "tsne = TSNE(n_components=2, verbose=0, perplexity=40, n_iter=300)\n",
    "X_pca_tsne = tsne.fit_transform(X_pca_n)\n",
    "\n",
    "print('t-SNE done! Time elapsed: {} seconds'.format(time.time()-time_start))\n",
    "\n",
    "df_pca_tsne = pd.DataFrame(data=X_pca_tsne, columns=['component_1', 'component_2'])"
   ]
  },
  {
   "cell_type": "markdown",
   "metadata": {},
   "source": [
    "### 2D Scatter Plot"
   ]
  },
  {
   "cell_type": "markdown",
   "metadata": {},
   "source": [
    "#### Version 1"
   ]
  },
  {
   "cell_type": "code",
   "execution_count": null,
   "metadata": {},
   "outputs": [],
   "source": [
    "plt.figure(figsize=(10,10))\n",
    "sns.scatterplot(\n",
    "    x=\"component_1\", y=\"component_2\",\n",
    "    palette=sns.color_palette(\"hls\", 10),\n",
    "    data=df_pca_tsne,\n",
    "    legend=\"full\",\n",
    "    alpha=0.3,\n",
    ")"
   ]
  },
  {
   "cell_type": "markdown",
   "metadata": {},
   "source": [
    "#### Version 2"
   ]
  },
  {
   "cell_type": "code",
   "execution_count": null,
   "metadata": {},
   "outputs": [],
   "source": [
    "fig = plt.figure(figsize=(10, 10))\n",
    "\n",
    "plt.scatter(df_pca_tsne[\"component_1\"], df_pca_tsne[\"component_2\"])\n",
    "\n",
    "ax = plt.gca()\n",
    "ax.axis('square')"
   ]
  },
  {
   "cell_type": "markdown",
   "metadata": {},
   "source": [
    "# Clustering"
   ]
  },
  {
   "cell_type": "markdown",
   "metadata": {},
   "source": [
    "### Choose the Appropriate Number of Components"
   ]
  },
  {
   "cell_type": "markdown",
   "metadata": {},
   "source": [
    "By setting n_components=2, we are compacting all of the features into two dimensions. This value is convenient for visualization on a two-dimensional plot.\n",
    "\n",
    "However, only using two components means that the not all of the explained variance of the input data will be captures. Explained variance measures the discrepancy between the transformed data and the actual input data.\n",
    "\n",
    "For the model, it will be important to conduct parameter tuning because it is a powerful method to maximize performance from clustering."
   ]
  },
  {
   "cell_type": "code",
   "execution_count": null,
   "metadata": {},
   "outputs": [],
   "source": [
    "'''\n",
    "kmeans_kwargs = {\n",
    "    \"init\": \"random\",\n",
    "    \"n_clusters\": n_clusters,\n",
    "    \"n_init\": 10,\n",
    "    \"max_iter\": 300,\n",
    "    \"random_state\": 42,\n",
    "}\n",
    "\n",
    "# Empty list to hold evaluation metrics\n",
    "silhouette_scores = []\n",
    "for n in range(2, 11):\n",
    "    # This set the number of components for pca,\n",
    "    # but leaves other steps unchanged\n",
    "    pca_n = PCA(n_components=n)\n",
    "    X_pca_n = pca_n.fit_transform(X)\n",
    "\n",
    "    kmeans = KMeans(**kmeans_kwargs)\n",
    "    kmeans.fit(X_pca_n)\n",
    "    \n",
    "    silhouette_coef = silhouette_score(\n",
    "        X_pca_n,\n",
    "        kmeans.labels_,\n",
    "    )\n",
    "\n",
    "    # Add metric to the appropriate list\n",
    "    silhouette_scores.append(silhouette_coef)\n",
    "'''"
   ]
  },
  {
   "cell_type": "code",
   "execution_count": null,
   "metadata": {},
   "outputs": [],
   "source": [
    "'''\n",
    "plt.style.use(\"fivethirtyeight\")\n",
    "plt.figure(figsize=(6, 6))\n",
    "plt.plot(\n",
    "    range(2, 11),\n",
    "    silhouette_scores,\n",
    "    c=\"#008fd5\")\n",
    "\n",
    "plt.xlabel(\"n_components\")\n",
    "plt.title(\"Clustering Performance as a Function of n_components\")\n",
    "plt.tight_layout()\n",
    "plt.show()\n",
    "'''"
   ]
  },
  {
   "cell_type": "code",
   "execution_count": null,
   "metadata": {},
   "outputs": [],
   "source": [
    "# Select the optimal number of components\n",
    "#components = 2\n",
    "\n",
    "# Rerun PCA or t-SNE with the optimal number of components selected\n",
    "#pca = PCA(n_components=components)\n",
    "#X_cluster = pca.fit_transform(X)\n",
    "\n",
    "X_cluster = X_pca_tsne"
   ]
  },
  {
   "cell_type": "markdown",
   "metadata": {},
   "source": [
    "## K-Means"
   ]
  },
  {
   "cell_type": "markdown",
   "metadata": {},
   "source": [
    "##### Sources\n",
    "\n",
    "https://blog.floydhub.com/introduction-to-k-means-clustering-in-python-with-scikit-learn/\n",
    "\n",
    "https://realpython.com/k-means-clustering-python/"
   ]
  },
  {
   "cell_type": "markdown",
   "metadata": {},
   "source": [
    "##### Characteristics\n",
    "\n",
    "*Parameters:* number of clusters\n",
    "\n",
    "*Scalability:* Very large n_smaples\n",
    "\n",
    "*Usecase:* General-purpose, even cluster size, flat geometry, not too many clusters\n",
    "\n",
    "*Geometry (metric used):* Distances between points"
   ]
  },
  {
   "cell_type": "markdown",
   "metadata": {},
   "source": [
    "### Choose the Appropriate Number of Clusters"
   ]
  },
  {
   "cell_type": "markdown",
   "metadata": {},
   "source": [
    "#### Elbow Method"
   ]
  },
  {
   "cell_type": "code",
   "execution_count": null,
   "metadata": {},
   "outputs": [],
   "source": [
    "kmeans_kwargs = {\n",
    "    \"init\": \"random\",\n",
    "    \"n_init\": 10,\n",
    "    \"max_iter\": 300,\n",
    "    #\"algorithm\": \"full\",\n",
    "    \"random_state\": 42,\n",
    "}\n",
    "\n",
    "# A list holds the SSE values for each k\n",
    "sse = []\n",
    "for k in range(2, 20):\n",
    "    kmeans = KMeans(n_clusters=k, **kmeans_kwargs)\n",
    "    kmeans.fit(X_cluster)\n",
    "    sse.append(kmeans.inertia_)"
   ]
  },
  {
   "cell_type": "code",
   "execution_count": null,
   "metadata": {},
   "outputs": [],
   "source": [
    "plt.style.use(\"fivethirtyeight\")\n",
    "plt.plot(range(2, 20), sse)\n",
    "plt.xticks(range(2, 20))\n",
    "plt.xlabel(\"Number of Clusters\")\n",
    "plt.ylabel(\"SSE\")\n",
    "plt.show()"
   ]
  },
  {
   "cell_type": "code",
   "execution_count": null,
   "metadata": {},
   "outputs": [],
   "source": [
    "kl = KneeLocator(\n",
    "    range(2, 20), sse, curve=\"convex\", direction=\"decreasing\"\n",
    ")\n",
    "\n",
    "n_clusters = kl.elbow\n",
    "n_clusters"
   ]
  },
  {
   "cell_type": "markdown",
   "metadata": {},
   "source": [
    "#### Silhouette Score"
   ]
  },
  {
   "cell_type": "markdown",
   "metadata": {},
   "source": [
    "The silhouette coefficient is a measure of cluster cohesion and separation (i.e., maximum class spread/variance). It quantifies how well a data point fits into its assigned cluster based on two factors: How close the data point is to other points in the cluster; How far away the data point is from points in other clusters. The higher the number the better."
   ]
  },
  {
   "cell_type": "code",
   "execution_count": null,
   "metadata": {},
   "outputs": [],
   "source": [
    "# A list holds the silhouette coefficients for each k\n",
    "silhouette_coefficients = []\n",
    "\n",
    "# Notice you start at 2 clusters for silhouette coefficient\n",
    "for k in range(2, 20):\n",
    "    kmeans = KMeans(n_clusters=k, **kmeans_kwargs)\n",
    "    kmeans.fit(X_cluster)\n",
    "    score = silhouette_score(X_cluster, kmeans.labels_)\n",
    "    silhouette_coefficients.append(score)"
   ]
  },
  {
   "cell_type": "code",
   "execution_count": null,
   "metadata": {},
   "outputs": [],
   "source": [
    "plt.style.use(\"fivethirtyeight\")\n",
    "plt.plot(range(2, 20), silhouette_coefficients)\n",
    "plt.xticks(range(2, 20))\n",
    "plt.xlabel(\"Number of Clusters\")\n",
    "plt.ylabel(\"Silhouette Coefficient\")\n",
    "plt.show()"
   ]
  },
  {
   "cell_type": "markdown",
   "metadata": {},
   "source": [
    "#### Calinski-Harabasz Score and Davies-Bouldin Score"
   ]
  },
  {
   "cell_type": "markdown",
   "metadata": {},
   "source": [
    "Calinski-Harabasz Index: interclass-intraclass distance ratio; the higher the number the better\n",
    "\n",
    "Davies-Bouldin Criteria: maximum interclass-intraclass distance ratio; the lower the number the better"
   ]
  },
  {
   "cell_type": "code",
   "execution_count": null,
   "metadata": {},
   "outputs": [],
   "source": [
    "lscores = []\n",
    "nclusters = 20\n",
    "for nc in range(2,nclusters+1):\n",
    "    km = KMeans(n_clusters=nc, n_init=10, random_state=0)\n",
    "    labels = km.fit_predict(X_cluster)\n",
    "    lscores.append((\n",
    "        calinski_harabasz_score(X_cluster, labels),\n",
    "        davies_bouldin_score(X_cluster, labels)))\n",
    "\n",
    "fig = plt.figure(figsize=(15,5))\n",
    "ax = fig.add_subplot(131)\n",
    "plt.plot(range(2,nclusters+1), [x for x,_ in lscores])\n",
    "ax = fig.add_subplot(132)\n",
    "plt.plot(range(2,nclusters+1), [x for _, x in lscores])\n",
    "\n",
    "plt.show()"
   ]
  },
  {
   "cell_type": "markdown",
   "metadata": {},
   "source": [
    "#### The Gap Statistic"
   ]
  },
  {
   "cell_type": "markdown",
   "metadata": {},
   "source": [
    "##### Sources\n",
    "\n",
    "https://towardsdatascience.com/clustering-evaluation-strategies-98a4006fcfc\n",
    "\n",
    "https://github.com/milesgranger/gap_statistic\n",
    "\n",
    "https://github.com/milesgranger/gap_statistic/blob/master/Example.ipynb\n",
    "\n",
    "https://anaconda.org/milesgranger/gap-statistic/notebook"
   ]
  },
  {
   "cell_type": "markdown",
   "metadata": {},
   "source": [
    "A powerful statistical method to find the optimal number of clusters. Assess the number of clusters comparing a clustering with the expected distribution of data given the null hypothesis (no clusters) \n",
    "\n",
    "Computes the different clusterings of the data increasing the number of clusters and compares to clusters of data generated from a uniform distribution \n",
    "\n",
    "The inter-class distance matrix Sw is computed for both and compared. The correct number of clusters is where the widest gap appears between the Sw of the data and the unform data."
   ]
  },
  {
   "cell_type": "code",
   "execution_count": null,
   "metadata": {},
   "outputs": [],
   "source": [
    "# Create an \"optimalK\" object\n",
    "optimalK = OptimalK(parallel_backend='rust')\n",
    "optimalK"
   ]
  },
  {
   "cell_type": "code",
   "execution_count": null,
   "metadata": {},
   "outputs": [],
   "source": [
    "# Call \"optimalK\" with a list of clusters to fit to\n",
    "n_clusters = optimalK(X_cluster, cluster_array=np.arange(1, 20))\n",
    "print('Optimal clusters: ', n_clusters)"
   ]
  },
  {
   "cell_type": "code",
   "execution_count": null,
   "metadata": {},
   "outputs": [],
   "source": [
    "# A DataFrame of gap values with each passed cluster count is now available\n",
    "optimalK.gap_df.head()"
   ]
  },
  {
   "cell_type": "code",
   "execution_count": null,
   "metadata": {},
   "outputs": [],
   "source": [
    "# Plot the n_clusters against their gap values\n",
    "plt.plot(optimalK.gap_df.n_clusters, optimalK.gap_df.gap_value, linewidth=3)\n",
    "plt.scatter(optimalK.gap_df[optimalK.gap_df.n_clusters == n_clusters].n_clusters,\n",
    "            optimalK.gap_df[optimalK.gap_df.n_clusters == n_clusters].gap_value, s=250, c='r')\n",
    "plt.grid(True)\n",
    "plt.xlabel('Cluster Count')\n",
    "plt.ylabel('Gap Value')\n",
    "plt.title('Gap Values by Cluster Count')\n",
    "plt.show()"
   ]
  },
  {
   "cell_type": "markdown",
   "metadata": {},
   "source": [
    "#### Cross-Validation"
   ]
  },
  {
   "cell_type": "markdown",
   "metadata": {},
   "source": [
    "The “right” number of clusters in a data set can also be determined by cross-validation. \n",
    "\n",
    "First, divide the given data set into m parts. Next, use m-1 parts to build a clustering model, and use the remaining part to test the quality of the clustering. For example, for each point in the test set, we can find the closest centroid. \n",
    "\n",
    "Consequently, we can use the sum of squared distances between all points in the test set and the closest centroids to measure how well the clustering model fits the test set. \n",
    "\n",
    "For any integer k > 0, we repeat this process m times to derive clusterings of k clusters by using each part in turn as the test set. \n",
    "\n",
    "The average of the quality measure is taken as the overall quality measure. We can then compare the overall quality measure with respect to different values of k, and find the number of clusters that best fits the data. "
   ]
  },
  {
   "cell_type": "markdown",
   "metadata": {},
   "source": [
    "### K-Means with Optimal K"
   ]
  },
  {
   "cell_type": "markdown",
   "metadata": {},
   "source": [
    "init: Use \"k-means++\" instead of \"random\" to ensure centroids are initialized with some distance between them. In most cases, this will be an improvement over \"random\".\n",
    "\n",
    "n_clusters: The optimal number of clusters that was found in the previous step\n",
    "\n",
    "n_init: Increase the number of initializations to ensure a stable solution is found\n",
    "\n",
    "max_iter: Increase the number of iterations per initialization to ensure that k-means will converge"
   ]
  },
  {
   "cell_type": "code",
   "execution_count": null,
   "metadata": {},
   "outputs": [],
   "source": [
    "# Select the optimal number of clusters\n",
    "n_clusters = 4"
   ]
  },
  {
   "cell_type": "code",
   "execution_count": null,
   "metadata": {},
   "outputs": [],
   "source": [
    "# Instantiate the k-means algorithm\n",
    "kmeans_kwargs = {\n",
    "    \"init\": \"k-means++\",\n",
    "    \"n_clusters\": n_clusters,\n",
    "    \"n_init\": 50,\n",
    "    \"max_iter\": 500,\n",
    "    #\"algorithm\": \"full\",\n",
    "    \"random_state\": 42,\n",
    "}\n",
    "\n",
    "kmeans = KMeans(**kmeans_kwargs)\n",
    "\n",
    "# Fit the algorithm to the features\n",
    "kmeans.fit(X_cluster)"
   ]
  },
  {
   "cell_type": "code",
   "execution_count": null,
   "metadata": {},
   "outputs": [],
   "source": [
    "# The number of iterations required to converge\n",
    "kmeans.n_iter_"
   ]
  },
  {
   "cell_type": "code",
   "execution_count": null,
   "metadata": {},
   "outputs": [],
   "source": [
    "# Final locations of the centroid\n",
    "kmeans.cluster_centers_"
   ]
  },
  {
   "cell_type": "markdown",
   "metadata": {},
   "source": [
    "### Internal Criteria"
   ]
  },
  {
   "cell_type": "markdown",
   "metadata": {},
   "source": [
    "##### Sources\n",
    "\n",
    "https://www.cs.upc.edu/~bejar/URL/material/04-Validation.pdf\n",
    "\n",
    "https://nbviewer.jupyter.org/github/bejar/AMLTNotebooks/blob/master/Notebooks/10ClusterValidation.ipynb"
   ]
  },
  {
   "cell_type": "markdown",
   "metadata": {},
   "source": [
    "These indices do not require ground truth labels. They measure properties expected in a good clustering: compact groups and well-separated groups \n",
    "\n",
    "The indices are based on the model of the groups. We can use indices based on the attributes’ values measuring the properties of a good clustering. The indices are based on statistical properties of the attributes of the model: value distribution and distances distribution.\n",
    "\n",
    "Recent studies (Arbelatiz et al, 2013) have exhaustively tested internal indices, and some have a performance significativelly better than other. The study concludes that Silhouette, Davies-Bouldin and Calinski Harabasz perform well in a wide range of situations"
   ]
  },
  {
   "cell_type": "markdown",
   "metadata": {},
   "source": [
    "#### SSE"
   ]
  },
  {
   "cell_type": "markdown",
   "metadata": {},
   "source": [
    "Some of the indices correspond directly to the objective function optimizated"
   ]
  },
  {
   "cell_type": "code",
   "execution_count": null,
   "metadata": {},
   "outputs": [],
   "source": [
    "# The lowest SSE value\n",
    "kmeans.inertia_"
   ]
  },
  {
   "cell_type": "markdown",
   "metadata": {},
   "source": [
    "#### Silhouette Index"
   ]
  },
  {
   "cell_type": "markdown",
   "metadata": {},
   "source": [
    "Silhouette coefficient values range between -1 and 1. Larger numbers indicate that samples are closer to their clusters than they are to other clusters.\n",
    "\n",
    "A score of 1 denotes the best meaning that the data point o is very compact within the cluster to which it belongs and far away from the other clusters. Values near 0 denote overlapping clusters.\n",
    "\n",
    "The worst value is -1. When the silhouette coefficient value is negative, this means that, in expectation, o is closer to the objects in another cluster than to the objects in the same cluster as o. In many cases, this is a bad situation and should be avoided.\n",
    "\n",
    "In the scikit-learn implementation of the silhouette coefficient, the average silhouette coefficient of all the samples is summarized into one score. "
   ]
  },
  {
   "cell_type": "code",
   "execution_count": null,
   "metadata": {},
   "outputs": [],
   "source": [
    "# Compute the silhouette score for the algorithm\n",
    "kmeans_silhouette = silhouette_score(\n",
    "    X_cluster, kmeans.labels_\n",
    ").round(2)\n",
    "\n",
    "kmeans_silhouette"
   ]
  },
  {
   "cell_type": "markdown",
   "metadata": {},
   "source": [
    "#### Calinski-Harabasz Index      "
   ]
  },
  {
   "cell_type": "code",
   "execution_count": null,
   "metadata": {},
   "outputs": [],
   "source": [
    "calinski_harabasz_score(X_cluster, labels)"
   ]
  },
  {
   "cell_type": "markdown",
   "metadata": {},
   "source": [
    "#### Davies-Bouldin Criteria"
   ]
  },
  {
   "cell_type": "code",
   "execution_count": null,
   "metadata": {},
   "outputs": [],
   "source": [
    "davies_bouldin_score(X_cluster, labels)"
   ]
  },
  {
   "cell_type": "markdown",
   "metadata": {},
   "source": [
    "## Other Clustering Algorithms"
   ]
  },
  {
   "cell_type": "markdown",
   "metadata": {},
   "source": [
    "##### Sources\n",
    "\n",
    "https://towardsdatascience.com/an-introduction-to-clustering-algorithms-in-python-123438574097\n",
    "\n",
    "https://towardsdatascience.com/the-5-clustering-algorithms-data-scientists-need-to-know-a36d136ef68\n",
    "\n",
    "https://machinelearningmastery.com/clustering-algorithms-with-python/\n",
    "\n",
    "https://github.com/bejar/AMLTNotebooks/blob/master/Code/Validation/ValidationAuthors.py\n",
    "\n",
    "https://hdbscan.readthedocs.io/en/latest/comparing_clustering_algorithms.html#getting-set-up\n",
    "\n",
    "https://scikit-learn.org/stable/modules/clustering.html#clustering"
   ]
  },
  {
   "cell_type": "markdown",
   "metadata": {},
   "source": [
    "### Mini-Batch KMeans"
   ]
  },
  {
   "cell_type": "markdown",
   "metadata": {},
   "source": [
    "Mini-Batch K-Means is a modified version of k-means that makes updates to the cluster centroids using mini-batches of samples rather than the entire dataset, which can make it faster for large datasets, and perhaps more robust to statistical noise."
   ]
  },
  {
   "cell_type": "code",
   "execution_count": null,
   "metadata": {},
   "outputs": [],
   "source": [
    "nclusters = 10\n",
    "\n",
    "for nc in range(2,nclusters+1):\n",
    "    # define the model\n",
    "    model = MiniBatchKMeans(n_clusters=nc)\n",
    "    # fit the model\n",
    "    model.fit(X_cluster)\n",
    "    # assign a cluster to each example\n",
    "    yhat = model.predict(X_cluster)\n",
    "    # retrieve unique clusters\n",
    "    clusters = unique(yhat)\n",
    "    # create scatter plot for samples from each cluster\n",
    "    for cluster in clusters:\n",
    "        # get row indexes for samples with this cluster\n",
    "        row_ix = where(yhat == cluster)\n",
    "        # create scatter of these samples\n",
    "        plt.scatter(X[row_ix, 0], X[row_ix, 1])\n",
    "    # show the plot\n",
    "    plt.show()"
   ]
  },
  {
   "cell_type": "markdown",
   "metadata": {},
   "source": [
    "### Spectral Clustering"
   ]
  },
  {
   "cell_type": "markdown",
   "metadata": {},
   "source": [
    "##### Sources\n",
    "\n",
    "*Parameters:* number of clusters\n",
    "\n",
    "*Scalability:* Medium n_samples, small n_clusters\n",
    "\n",
    "*Usecase:* Few clusters, even clsuter size, non-flat geometry\n",
    "\n",
    "*Geometry (metric used):* Graph distance (e.g., nearest-neighbor graph)"
   ]
  },
  {
   "cell_type": "code",
   "execution_count": null,
   "metadata": {},
   "outputs": [],
   "source": [
    "nclusters = 10\n",
    "lscores = []\n",
    "\n",
    "for nc in range(2,nclusters+1):\n",
    "    spec = SpectralClustering(n_clusters=nc, affinity='nearest_neighbors', n_neighbors=15, random_state=0)\n",
    "    labels = spec.fit_predict(X_cluster)\n",
    "    lscores.append((\n",
    "        silhouette_score(X_cluster, labels),\n",
    "        calinski_harabasz_score(X_cluster, labels),\n",
    "        davies_bouldin_score(X_cluster, labels)))\n",
    "\n",
    "fig = plt.figure(figsize=(15,5))\n",
    "ax = fig.add_subplot(131)\n",
    "plt.plot(range(2,nclusters+1), [x for x,_,_ in lscores])\n",
    "ax = fig.add_subplot(132)\n",
    "plt.plot(range(2,nclusters+1), [x for _, x,_ in lscores])\n",
    "ax = fig.add_subplot(133)\n",
    "plt.plot(range(2,nclusters+1), [x for _, _, x in lscores])\n",
    "\n",
    "plt.show()"
   ]
  },
  {
   "cell_type": "markdown",
   "metadata": {},
   "source": [
    "###  DBSCAN"
   ]
  },
  {
   "cell_type": "markdown",
   "metadata": {},
   "source": [
    "##### Characteristics\n",
    "\n",
    "*Parameters:* neighborhood size\n",
    "\n",
    "*Scalability:* Very large n_samples, medium clusters\n",
    "\n",
    "*Usecase:* Non-flat geometry, uneven cluster sizes\n",
    "\n",
    "*Geometry (metric used):* Distances between nearest points"
   ]
  },
  {
   "cell_type": "code",
   "execution_count": null,
   "metadata": {},
   "outputs": [],
   "source": [
    "# Computer DBSCAN\n",
    "db = DBSCAN(eps=0.2, min_samples=10)\n",
    "\n",
    "# Fit the algorithms to the features\n",
    "db.fit(X_cluster)\n",
    "\n",
    "core_samples_mask = np.zeros_like(db.labels_, dtype=bool)\n",
    "core_samples_mask[db.core_sample_indices_] = True\n",
    "labels = db.labels_"
   ]
  },
  {
   "cell_type": "code",
   "execution_count": null,
   "metadata": {},
   "outputs": [],
   "source": [
    "# Number of clusters in labels, ignoring noise if present.\n",
    "n_clusters_ = len(set(labels)) - (1 if -1 in labels else 0)\n",
    "n_noise_ = list(labels).count(-1)"
   ]
  },
  {
   "cell_type": "code",
   "execution_count": null,
   "metadata": {},
   "outputs": [],
   "source": [
    "print('Estimated number of clusters: %d' % n_clusters_)\n",
    "print('Estimated number of noise points: %d' % n_noise_)\n",
    "print(\"Silhouette Coefficient: %0.3f\"\n",
    "      % silhouette_score(X, labels))"
   ]
  },
  {
   "cell_type": "code",
   "execution_count": null,
   "metadata": {},
   "outputs": [],
   "source": [
    "# Plot result\n",
    "\n",
    "# Black removed and is used for noise instead.\n",
    "unique_labels = set(labels)\n",
    "colors = [plt.cm.Spectral(each)\n",
    "          for each in np.linspace(0, 1, len(unique_labels))]\n",
    "for k, col in zip(unique_labels, colors):\n",
    "    if k == -1:\n",
    "        # Black used for noise.\n",
    "        col = [0, 0, 0, 1]\n",
    "\n",
    "    class_member_mask = (labels == k)\n",
    "\n",
    "    xy = X_cluster[class_member_mask & core_samples_mask]\n",
    "    plt.plot(xy[:, 0], xy[:, 1], 'o', markerfacecolor=tuple(col),\n",
    "             markeredgecolor='k', markersize=14)\n",
    "\n",
    "    xy = X_cluster[class_member_mask & ~core_samples_mask]\n",
    "    plt.plot(xy[:, 0], xy[:, 1], 'o', markerfacecolor=tuple(col),\n",
    "             markeredgecolor='k', markersize=6)\n",
    "\n",
    "plt.title('Estimated number of clusters: %d' % n_clusters_)\n",
    "plt.show()\n"
   ]
  },
  {
   "cell_type": "markdown",
   "metadata": {},
   "source": [
    "###  HDBSCAN"
   ]
  },
  {
   "cell_type": "code",
   "execution_count": null,
   "metadata": {},
   "outputs": [],
   "source": [
    "def plot_clusters(data, algorithm, args, kwds):\n",
    "    start_time = time.time()\n",
    "    labels = algorithm(*args, **kwds).fit_predict(data)\n",
    "    end_time = time.time()\n",
    "    palette = sns.color_palette('deep', np.unique(labels).max() + 1)\n",
    "    colors = [palette[x] if x >= 0 else (0.0, 0.0, 0.0) for x in labels]\n",
    "    plt.scatter(data.T[0], data.T[1], c=colors, **plot_kwds)\n",
    "    frame = plt.gca()\n",
    "    frame.axes.get_xaxis().set_visible(False)\n",
    "    frame.axes.get_yaxis().set_visible(False)\n",
    "    plt.title('Clusters found by {}'.format(str(algorithm.__name__)), fontsize=24)\n",
    "    plt.text(-0.5, 0.7, 'Clustering took {:.2f} s'.format(end_time - start_time), fontsize=14)"
   ]
  },
  {
   "cell_type": "code",
   "execution_count": null,
   "metadata": {},
   "outputs": [],
   "source": [
    "plot_clusters(X_cluster, hdbscan.HDBSCAN, (), {'min_cluster_size':1000, 'min_samples':1})"
   ]
  },
  {
   "cell_type": "markdown",
   "metadata": {},
   "source": [
    "### OPTICS"
   ]
  },
  {
   "cell_type": "markdown",
   "metadata": {},
   "source": [
    "##### Characteristics\n",
    "\n",
    "*Parameters:* minimum cluster membership\n",
    "\n",
    "*Scalability:* Very large n_samples, large n_clusters\n",
    "\n",
    "*Usecase:* Non-flat geometry, uneven cluster sizes, variable cluster density\n",
    "\n",
    "*Geometry (metric used):* Distances between points"
   ]
  },
  {
   "cell_type": "markdown",
   "metadata": {},
   "source": [
    "OPTICS clustering (where OPTICS is short for Ordering Points To Identify the Clustering Structure) is a modified version of DBSCAN described above."
   ]
  },
  {
   "cell_type": "code",
   "execution_count": null,
   "metadata": {},
   "outputs": [],
   "source": [
    "clust = OPTICS(min_samples=50, xi=.05, min_cluster_size=.05)\n",
    "\n",
    "# Run the fit\n",
    "clust.fit(X_cluster)\n",
    "\n",
    "labels_050 = cluster_optics_dbscan(reachability=clust.reachability_,\n",
    "                                   core_distances=clust.core_distances_,\n",
    "                                   ordering=clust.ordering_, eps=0.5)\n",
    "labels_200 = cluster_optics_dbscan(reachability=clust.reachability_,\n",
    "                                   core_distances=clust.core_distances_,\n",
    "                                   ordering=clust.ordering_, eps=2)\n",
    "\n",
    "space = np.arange(len(X))\n",
    "reachability = clust.reachability_[clust.ordering_]\n",
    "labels = clust.labels_[clust.ordering_]\n",
    "\n",
    "plt.figure(figsize=(10, 7))\n",
    "G = gridspec.GridSpec(2, 3)\n",
    "ax1 = plt.subplot(G[0, :])\n",
    "ax2 = plt.subplot(G[1, 0])\n",
    "ax3 = plt.subplot(G[1, 1])\n",
    "ax4 = plt.subplot(G[1, 2])\n",
    "\n",
    "# Reachability plot\n",
    "colors = ['g.', 'r.', 'b.', 'y.', 'c.']\n",
    "for klass, color in zip(range(0, 5), colors):\n",
    "    Xk = space[labels == klass]\n",
    "    Rk = reachability[labels == klass]\n",
    "    ax1.plot(Xk, Rk, color, alpha=0.3)\n",
    "ax1.plot(space[labels == -1], reachability[labels == -1], 'k.', alpha=0.3)\n",
    "ax1.plot(space, np.full_like(space, 2., dtype=float), 'k-', alpha=0.5)\n",
    "ax1.plot(space, np.full_like(space, 0.5, dtype=float), 'k-.', alpha=0.5)\n",
    "ax1.set_ylabel('Reachability (epsilon distance)')\n",
    "ax1.set_title('Reachability Plot')\n",
    "\n",
    "# OPTICS\n",
    "colors = ['g.', 'r.', 'b.', 'y.', 'c.']\n",
    "for klass, color in zip(range(0, 5), colors):\n",
    "    Xk = X_cluster[clust.labels_ == klass]\n",
    "    ax2.plot(Xk[:, 0], Xk[:, 1], color, alpha=0.3)\n",
    "ax2.plot(X[clust.labels_ == -1, 0], X_cluster[clust.labels_ == -1, 1], 'k+', alpha=0.1)\n",
    "ax2.set_title('Automatic Clustering\\nOPTICS')\n",
    "\n",
    "# DBSCAN at 0.5\n",
    "colors = ['g', 'greenyellow', 'olive', 'r', 'b', 'c']\n",
    "for klass, color in zip(range(0, 6), colors):\n",
    "    Xk = X_cluster[labels_050 == klass]\n",
    "    ax3.plot(Xk[:, 0], Xk[:, 1], color, alpha=0.3, marker='.')\n",
    "ax3.plot(X_cluster[labels_050 == -1, 0], X_cluster[labels_050 == -1, 1], 'k+', alpha=0.1)\n",
    "ax3.set_title('Clustering at 0.5 epsilon cut\\nDBSCAN')\n",
    "\n",
    "# DBSCAN at 2.\n",
    "colors = ['g.', 'm.', 'y.', 'c.']\n",
    "for klass, color in zip(range(0, 4), colors):\n",
    "    Xk = X[labels_200 == klass]\n",
    "    ax4.plot(Xk[:, 0], Xk[:, 1], color, alpha=0.3)\n",
    "ax4.plot(X_cluster[labels_200 == -1, 0], X_cluster[labels_200 == -1, 1], 'k+', alpha=0.1)\n",
    "ax4.set_title('Clustering at 2.0 epsilon cut\\nDBSCAN')\n",
    "\n",
    "plt.tight_layout()\n",
    "plt.show()"
   ]
  },
  {
   "cell_type": "markdown",
   "metadata": {},
   "source": [
    "### Agglomerative / Ward Hierarchical Clustering"
   ]
  },
  {
   "cell_type": "markdown",
   "metadata": {},
   "source": [
    "##### Characteristics\n",
    "\n",
    "*Parameters:* number of clusters or distance threshold, linkage type, distance\n",
    "\n",
    "*Scalability:* Large n_samples and n_clusters\n",
    "\n",
    "*Usecase:* Many clusters, possibly connectivity constraints, non Euclidean distances\n",
    "\n",
    "*Geometry (metric used):* Any pariwise distance"
   ]
  },
  {
   "cell_type": "code",
   "execution_count": null,
   "metadata": {},
   "outputs": [],
   "source": [
    "Z = hierarchy.linkage(X_cluster, 'single')\n",
    "\n",
    "plt.figure()\n",
    "dn = hierarchy.dendrogram(Z)\n",
    "plt.title('Hierarchical Clustering Dendrogram')"
   ]
  },
  {
   "cell_type": "code",
   "execution_count": null,
   "metadata": {},
   "outputs": [],
   "source": [
    "nclusters = 10\n",
    "\n",
    "for linkage in ('ward','average','complete','single'):\n",
    "    for nc in range(2,nclusters+1):\n",
    "        clustering = AgglomerativeClustering(linkage=linkage, n_clusters=nc)\n",
    "        clustering.fit(X_cluster)\n",
    "        print('Linkage: %s' % linkage)\n",
    "        print('Number of Clusters: %d' % nc)\n",
    "        print(\"Silhouette Coefficient: %0.3f\"\n",
    "          % silhouette_score(X_cluster, clustering.labels_))\n",
    "        print(\"\\n\")"
   ]
  },
  {
   "cell_type": "markdown",
   "metadata": {},
   "source": [
    "### Birch"
   ]
  },
  {
   "cell_type": "markdown",
   "metadata": {},
   "source": [
    "##### Characteristics\n",
    "\n",
    "*Parameters:* branching factor, treshold, optional global clusterer\n",
    "\n",
    "*Scalability:* Large n_clusters and n_samples. Birch does not scale very well to high dimensional data. As a rule of thumb if n_features is greater than twenty, it is generally better to use MiniBatchKMeans.\n",
    "\n",
    "*Usecase:* Large dataset, outlier removal, data reduction\n",
    "\n",
    "*Geometry (metric used):* Euclidean distance between points"
   ]
  },
  {
   "cell_type": "code",
   "execution_count": null,
   "metadata": {},
   "outputs": [],
   "source": [
    "nclusters = 10\n",
    "for nc in range(2,nclusters+1):\n",
    "    # define the model\n",
    "    model = Birch(threshold=0.01, n_clusters=nc)\n",
    "    # fit the model\n",
    "    model.fit(X_cluster)\n",
    "    # assign a cluster to each example\n",
    "    yhat = model.predict(X_cluster)\n",
    "    # retrieve unique clusters\n",
    "    clusters = unique(yhat)\n",
    "    # create scatter plot for samples from each cluster\n",
    "    for cluster in clusters:\n",
    "        # get row indexes for samples with this cluster\n",
    "        row_ix = where(yhat == cluster)\n",
    "        # create scatter of these samples\n",
    "        plt.scatter(X_cluster[row_ix, 0], X_cluster[row_ix, 1])\n",
    "    # show the plot\n",
    "    plt.show()"
   ]
  },
  {
   "cell_type": "markdown",
   "metadata": {},
   "source": [
    "### NOT SCALABLE WITH N_SAMPLES"
   ]
  },
  {
   "cell_type": "markdown",
   "metadata": {},
   "source": [
    "### Affinity propagation"
   ]
  },
  {
   "cell_type": "markdown",
   "metadata": {},
   "source": [
    "##### Characteristics\n",
    "\n",
    "*Parameters:* damping, sample preference\n",
    "\n",
    "*Scalability:* Not scalable with n_samples\n",
    "\n",
    "*Usecase:* Many clusters, uneven cluster size, non-flat geometry\n",
    "\n",
    "*Geometry (metric used):* Graph distance (e.g. nearest-neighbor graph)"
   ]
  },
  {
   "cell_type": "code",
   "execution_count": null,
   "metadata": {},
   "outputs": [],
   "source": [
    "# Compute Affinity Propagation\n",
    "af = AffinityPropagation(preference=-50).fit(X_cluster)\n",
    "cluster_centers_indices = af.cluster_centers_indices_\n",
    "labels = af.labels_\n",
    "\n",
    "n_clusters_ = len(cluster_centers_indices)\n",
    "\n",
    "print('Estimated number of clusters: %d' % n_clusters_)\n",
    "print(\"Silhouette Coefficient: %0.3f\"\n",
    "      % metrics.silhouette_score(X, labels, metric='sqeuclidean'))\n",
    "\n",
    "# Plot result\n",
    "from itertools import cycle\n",
    "\n",
    "plt.close('all')\n",
    "plt.figure(1)\n",
    "plt.clf()\n",
    "\n",
    "colors = cycle('bgrcmykbgrcmykbgrcmykbgrcmyk')\n",
    "for k, col in zip(range(n_clusters_), colors):\n",
    "    class_members = labels == k\n",
    "    cluster_center = X_cluster[cluster_centers_indices[k]]\n",
    "    plt.plot(X_cluster[class_members, 0], X_cluster[class_members, 1], col + '.')\n",
    "    plt.plot(cluster_center[0], cluster_center[1], 'o', markerfacecolor=col,\n",
    "             markeredgecolor='k', markersize=14)\n",
    "    for x in X_cluster[class_members]:\n",
    "        plt.plot([cluster_center[0], x[0]], [cluster_center[1], x[1]], col)\n",
    "\n",
    "plt.title('Estimated number of clusters: %d' % n_clusters_)\n",
    "plt.show()"
   ]
  },
  {
   "cell_type": "markdown",
   "metadata": {},
   "source": [
    "### Mean-Shift"
   ]
  },
  {
   "cell_type": "markdown",
   "metadata": {},
   "source": [
    "##### Characteristics\n",
    "\n",
    "*Parameters:* bandwidth\n",
    "\n",
    "*Scalability:* Not scalable with n_samples\n",
    "\n",
    "*Usecase:* Many clusters, uneven cluster size, non-flat geometry\n",
    "\n",
    "*Geometry (metric used):* Distances between points"
   ]
  },
  {
   "cell_type": "code",
   "execution_count": null,
   "metadata": {},
   "outputs": [],
   "source": [
    "bandwidth = estimate_bandwidth(X_cluster, quantile=0.2, n_samples=10000)\n",
    "\n",
    "ms = MeanShift(bandwidth=bandwidth, bin_seeding=True)\n",
    "ms.fit(X_cluster)\n",
    "labels = ms.labels_\n",
    "cluster_centers = ms.cluster_centers_\n",
    "\n",
    "labels_unique = np.unique(labels)\n",
    "n_clusters_ = len(labels_unique)\n",
    "\n",
    "print(\"number of estimated clusters : %d\" % n_clusters_)"
   ]
  },
  {
   "cell_type": "code",
   "execution_count": null,
   "metadata": {},
   "outputs": [],
   "source": [
    "plt.figure(1)\n",
    "plt.clf()\n",
    "\n",
    "colors = cycle('bgrcmykbgrcmykbgrcmykbgrcmyk')\n",
    "for k, col in zip(range(n_clusters_), colors):\n",
    "    my_members = labels == k\n",
    "    cluster_center = cluster_centers[k]\n",
    "    plt.plot(X_cluster[my_members, 0], X_cluster[my_members, 1], col + '.')\n",
    "    plt.plot(cluster_center[0], cluster_center[1], 'o', markerfacecolor=col,\n",
    "             markeredgecolor='k', markersize=14)\n",
    "plt.title('Estimated number of clusters: %d' % n_clusters_)\n",
    "plt.show()"
   ]
  },
  {
   "cell_type": "markdown",
   "metadata": {},
   "source": [
    "### Gaussian Mixture"
   ]
  },
  {
   "cell_type": "markdown",
   "metadata": {},
   "source": [
    "##### Sources\n",
    "\n",
    "https://scikit-learn.org/stable/auto_examples/mixture/plot_gmm_selection.html#sphx-glr-auto-examples-mixture-plot-gmm-selection-py"
   ]
  },
  {
   "cell_type": "markdown",
   "metadata": {},
   "source": [
    "##### Characteristics\n",
    "\n",
    "*Parameters:* many\n",
    "\n",
    "*Scalability:* Not scalable\n",
    "\n",
    "*Usecase:* Flat geometry, good for density estimation\n",
    "\n",
    "*Geometry (metric used):* Euclidean distance between points"
   ]
  },
  {
   "cell_type": "code",
   "execution_count": null,
   "metadata": {},
   "outputs": [],
   "source": [
    "nclusters = 10\n",
    "lscores = []\n",
    "\n",
    "for nc in range(2, nclusters+1):\n",
    "    gmm = GaussianMixture(n_components=nc, covariance_type='diag')\n",
    "    gmm.fit(X_cluster)\n",
    "    labels = gmm.predict(X_cluster)\n",
    "    lscores.append((\n",
    "        silhouette_score(X_cluster, labels),\n",
    "        calinski_harabasz_score(X_cluster, labels),\n",
    "        davies_bouldin_score(X_cluster, labels)\n",
    "    ))\n",
    "    \n",
    "fig = plt.figure(figsize=(15,5))\n",
    "ax = fig.add_subplot(131)\n",
    "plt.plot(range(2,nclusters+1), [x for x,_,_ in lscores])\n",
    "ax = fig.add_subplot(132)\n",
    "plt.plot(range(2,nclusters+1), [x for _, x,_ in lscores])\n",
    "ax = fig.add_subplot(133)\n",
    "plt.plot(range(2,nclusters+1), [x for _, _, x in lscores])\n",
    "\n",
    "plt.show()"
   ]
  },
  {
   "cell_type": "code",
   "execution_count": null,
   "metadata": {},
   "outputs": [],
   "source": [
    "lowest_bic = np.infty\n",
    "bic = []\n",
    "n_components_range = range(1, 10)\n",
    "cv_types = ['spherical', 'tied', 'diag', 'full']\n",
    "for cv_type in cv_types:\n",
    "    for n_components in n_components_range:\n",
    "        # Fit a Gaussian mixture with EM\n",
    "        gmm = GaussianMixture(n_components=n_components,\n",
    "                                      covariance_type=cv_type)\n",
    "        gmm.fit(X_cluster)\n",
    "        bic.append(gmm.bic(X_cluster))\n",
    "        if bic[-1] < lowest_bic:\n",
    "            lowest_bic = bic[-1]\n",
    "            best_gmm = gmm\n",
    "\n",
    "bic = np.array(bic)\n",
    "color_iter = itertools.cycle(['navy', 'turquoise', 'cornflowerblue',\n",
    "                              'darkorange'])\n",
    "clf = best_gmm\n",
    "bars = []\n",
    "\n",
    "# Plot the BIC scores\n",
    "plt.figure(figsize=(8, 6))\n",
    "spl = plt.subplot(2, 1, 1)\n",
    "for i, (cv_type, color) in enumerate(zip(cv_types, color_iter)):\n",
    "    xpos = np.array(n_components_range) + .2 * (i - 2)\n",
    "    bars.append(plt.bar(xpos, bic[i * len(n_components_range):\n",
    "                                  (i + 1) * len(n_components_range)],\n",
    "                        width=.2, color=color))\n",
    "plt.xticks(n_components_range)\n",
    "plt.ylim([bic.min() * 1.01 - .01 * bic.max(), bic.max()])\n",
    "plt.title('BIC score per model')\n",
    "xpos = np.mod(bic.argmin(), len(n_components_range)) + .65 +\\\n",
    "    .2 * np.floor(bic.argmin() / len(n_components_range))\n",
    "plt.text(xpos, bic.min() * 0.97 + .03 * bic.max(), '*', fontsize=14)\n",
    "spl.set_xlabel('Number of components')\n",
    "spl.legend([b[0] for b in bars], cv_types)"
   ]
  },
  {
   "cell_type": "markdown",
   "metadata": {},
   "source": [
    "## Consensus Clustering"
   ]
  },
  {
   "cell_type": "markdown",
   "metadata": {},
   "source": [
    "##### Sources\n",
    "\n",
    "https://www.cs.upc.edu/~bejar/URL/material/06-Consensus.pdf\n",
    "\n",
    "https://nbviewer.jupyter.org/github/bejar/URLNotebooks/blob/master/Notebooks/12ConsensusClustering.ipynb\n",
    "\n",
    "https://learning.oreilly.com/library/view/hands-on-ensemble-learning/9781789612851/549666a5-7fe2-4ea9-867b-d5f8c640d28f.xhtml\n",
    "\n",
    "https://github.com/PacktPublishing/Hands-On-Ensemble-Learning-with-Python/tree/master/Chapter08"
   ]
  },
  {
   "cell_type": "markdown",
   "metadata": {},
   "source": [
    "### Simple Consensus Clustering"
   ]
  },
  {
   "cell_type": "markdown",
   "metadata": {},
   "source": [
    "n_clusters = Number of clusters\n",
    "\n",
    "n_clusters_base = Number of clusters to use the base classifier\n",
    "\n",
    "n_components = Number of components of the consensus\n",
    "\n",
    "ncb_rand = If the number of clusters of each component is chosen randomly in the interval [ 2..n_clusters ]"
   ]
  },
  {
   "cell_type": "code",
   "execution_count": null,
   "metadata": {},
   "outputs": [],
   "source": [
    "nc = 4\n",
    "km = KMeans(n_clusters=nc)\n",
    "\n",
    "cons = SimpleConsensusClustering(n_clusters=nc, n_clusters_base=4, n_components=10, ncb_rand=False)\n",
    "\n",
    "lkm = km.fit_predict(X_cluster)\n",
    "cons.fit(X_cluster)\n",
    "lcons = cons.labels_\n",
    "\n",
    "print('K-M SS =', silhouette_score(X_cluster, labels))\n",
    "print('SCC SS =', silhouette_score(X_cluster, labels))"
   ]
  },
  {
   "cell_type": "markdown",
   "metadata": {},
   "source": [
    "### OpenEnsembles - Majority Vote"
   ]
  },
  {
   "cell_type": "code",
   "execution_count": null,
   "metadata": {},
   "outputs": [],
   "source": [
    "#feature_names = list(df[df.columns[~df.columns.isin([\"GEOID\",\"GEO_ID\",\"NAME\"])]].columns)\n",
    "\n",
    "feature_names = ['component_1', 'component_2']\n",
    "\n",
    "cluster_data = oe.data(pd.DataFrame(X_cluster), feature_names)\n",
    "\n",
    "ensemble = oe.cluster(cluster_data)"
   ]
  },
  {
   "cell_type": "code",
   "execution_count": null,
   "metadata": {},
   "outputs": [],
   "source": [
    "# --- SECTION 3 ---\n",
    "# Create the ensembles and calculate the silhouette score\n",
    "for K in [2, 3, 4, 5, 6, 7]:\n",
    "    for ensemble_size in [3, 4, 5]:\n",
    "        ensemble = oe.cluster(cluster_data)\n",
    "        for i in range(ensemble_size):\n",
    "            name = f'kmeans_{ensemble_size}_{i}'\n",
    "            ensemble.cluster('parent', 'kmeans', name, K)\n",
    "\n",
    "        preds = ensemble.finish_majority_vote(threshold=0.5)\n",
    "        print(f'K: {K}, size {ensemble_size}:', end=' ')\n",
    "        print('%.2f' % silhouette_score(X_cluster, preds.labels['majority_vote']))"
   ]
  },
  {
   "cell_type": "markdown",
   "metadata": {},
   "source": [
    "### OpenEnsembles - Graph Closure"
   ]
  },
  {
   "cell_type": "code",
   "execution_count": null,
   "metadata": {},
   "outputs": [],
   "source": [
    "#feature_names = list(df[df.columns[~df.columns.isin([\"GEOID\",\"GEO_ID\",\"NAME\"])]].columns)\n",
    "\n",
    "feature_names = ['component_1', 'component_2']\n",
    "\n",
    "cluster_data = oe.data(pd.DataFrame(X_cluster), feature_names)\n",
    "\n",
    "ensemble = oe.cluster(cluster_data)"
   ]
  },
  {
   "cell_type": "code",
   "execution_count": null,
   "metadata": {},
   "outputs": [],
   "source": [
    "for K in [2, 3, 4, 5, 6, 7]:\n",
    "    for ensemble_size in [3, 4, 5]:\n",
    "        ensemble = oe.cluster(cluster_data)\n",
    "        for i in range(ensemble_size):\n",
    "            name = f'kmeans_{ensemble_size}_{i}'\n",
    "            ensemble.cluster('parent', 'kmeans', name, K)\n",
    "\n",
    "        preds = ensemble.finish_graph_closure(threshold=0.5)\n",
    "        print(f'K: {K}, size {ensemble_size}:', end=' ')\n",
    "        print('%.2f' % silhouette_score(X_cluster, preds.labels['majority_vote']))"
   ]
  },
  {
   "cell_type": "markdown",
   "metadata": {},
   "source": [
    "### OpenEnsembles - Occurence"
   ]
  },
  {
   "cell_type": "code",
   "execution_count": null,
   "metadata": {},
   "outputs": [],
   "source": [
    "#feature_names = list(df[df.columns[~df.columns.isin([\"GEOID\",\"GEO_ID\",\"NAME\"])]].columns)\n",
    "\n",
    "feature_names = ['component_1', 'component_2']\n",
    "\n",
    "cluster_data = oe.data(pd.DataFrame(X_cluster), feature_names)\n",
    "\n",
    "ensemble = oe.cluster(cluster_data)"
   ]
  },
  {
   "cell_type": "code",
   "execution_count": null,
   "metadata": {},
   "outputs": [],
   "source": [
    "# Create the ensembles and calculate the homogeneity score\n",
    "for K in [2, 3, 4, 5, 6, 7]:\n",
    "    for ensemble_size in [3, 4, 5]:\n",
    "        ensemble = oe.cluster(cluster_data)\n",
    "        for i in range(ensemble_size):\n",
    "            name = f'kmeans_{ensemble_size}_{i}'\n",
    "            ensemble.cluster('parent', 'kmeans', name, K)\n",
    "\n",
    "        preds = ensemble.finish_co_occ_linkage(threshold=0.5)\n",
    "        print(f'K: {K}, size {ensemble_size}:', end=' ')\n",
    "        print('%.2f' % silhouette_score(X_cluster, preds.labels['majority_vote']))"
   ]
  },
  {
   "cell_type": "markdown",
   "metadata": {},
   "source": [
    "# Evaluation of Chosen Model"
   ]
  },
  {
   "cell_type": "markdown",
   "metadata": {},
   "source": [
    "##### Sources\n",
    "\n",
    "https://towardsdatascience.com/cluster-analysis-create-visualize-and-interpret-customer-segments-474e55d00ebb\n",
    "\n",
    "https://github.com/MaartenGr/CustomerSegmentation/blob/master/Customer%20Segmentation.ipynb"
   ]
  },
  {
   "cell_type": "code",
   "execution_count": null,
   "metadata": {},
   "outputs": [],
   "source": [
    "# Choose the algorithm that produced the best results\n",
    "chosen_model = kmeans"
   ]
  },
  {
   "cell_type": "markdown",
   "metadata": {},
   "source": [
    "## Visualizations"
   ]
  },
  {
   "cell_type": "markdown",
   "metadata": {},
   "source": [
    "### 2D"
   ]
  },
  {
   "cell_type": "code",
   "execution_count": null,
   "metadata": {},
   "outputs": [],
   "source": [
    "# The dataset utilized for clustering may have used more than 2 components\n",
    "# So, take the original processed matrix \"X\" and project it onto 2 dimensions\n",
    "# Then, attach the cluster labels to the final outputted dataframe\n",
    "\n",
    "df_pca = prepare_pca(2, X, chosen_model.labels_)\n",
    "df_tsne = prepare_tsne(2, X, chosen_model.labels_)"
   ]
  },
  {
   "cell_type": "markdown",
   "metadata": {},
   "source": [
    "#### Version 1"
   ]
  },
  {
   "cell_type": "code",
   "execution_count": null,
   "metadata": {},
   "outputs": [],
   "source": [
    "def plot_2d_v1 (df, model):\n",
    "    colors = plt.cm.Spectral(np.linspace(0, 1, len(df.labels.unique())))\n",
    "\n",
    "    for color, label in zip(colors, df.labels.unique()):\n",
    "    \n",
    "        tempdf = df[df.labels == label]\n",
    "        plt.scatter(tempdf.x, tempdf.y, c=color)\n",
    "    \n",
    "    plt.scatter(model.cluster_centers_[:,0], model.cluster_centers_[:, 1], c='r', s=500, alpha=0.7, )\n",
    "    plt.grid(True)\n",
    "    plt.show()"
   ]
  },
  {
   "cell_type": "code",
   "execution_count": null,
   "metadata": {},
   "outputs": [],
   "source": [
    "plot_2d_v1(df_tsne, chosen_model)"
   ]
  },
  {
   "cell_type": "markdown",
   "metadata": {},
   "source": [
    "### 3D"
   ]
  },
  {
   "cell_type": "code",
   "execution_count": null,
   "metadata": {},
   "outputs": [],
   "source": [
    "# The dataset utilized for clustering may have more than 3 components\n",
    "# So, take the original processed matrix \"X\" and project it onto 3 dimensions\n",
    "# Then, attach the cluster labels to the final outputted dataframe\n",
    "\n",
    "df_pca = prepare_pca(3, X, chosen_model.labels_)\n",
    "df_tsne = prepare_tsne(3, X, chosen_model.labels_)"
   ]
  },
  {
   "cell_type": "markdown",
   "metadata": {},
   "source": [
    "#### Version 1"
   ]
  },
  {
   "cell_type": "code",
   "execution_count": null,
   "metadata": {},
   "outputs": [],
   "source": [
    "def plot_3d_v1(df, name='labels'):\n",
    "    fig = px.scatter_3d(df, x='x', y='y', z='z', color=name, opacity=0.5)\n",
    "    \n",
    "    fig.update_traces(marker=dict(size=3))\n",
    "    \n",
    "    fig.show()"
   ]
  },
  {
   "cell_type": "code",
   "execution_count": null,
   "metadata": {},
   "outputs": [],
   "source": [
    "plot_3d_v1(df_tsne)"
   ]
  },
  {
   "cell_type": "markdown",
   "metadata": {},
   "source": [
    "#### Version 2"
   ]
  },
  {
   "cell_type": "code",
   "execution_count": null,
   "metadata": {},
   "outputs": [],
   "source": [
    "def plot_3d_v2(df):\n",
    "    fig = plt.figure(figsize=(10,10))\n",
    "\n",
    "    ax = fig.add_subplot(111, projection='3d')\n",
    "    plt.scatter(df[:, 0], df[:, 1], zs=df[:, 2], depthshade=False, c=df[:, 3], s=100)\n",
    "\n",
    "    plt.show()"
   ]
  },
  {
   "cell_type": "code",
   "execution_count": null,
   "metadata": {},
   "outputs": [],
   "source": [
    "plot_3d_v2(df_tsne)"
   ]
  },
  {
   "cell_type": "markdown",
   "metadata": {},
   "source": [
    "### 3D Animation"
   ]
  },
  {
   "cell_type": "code",
   "execution_count": null,
   "metadata": {},
   "outputs": [],
   "source": [
    "def plot_animation(df, name):\n",
    "    def update(num):\n",
    "        ax.view_init(200, num)\n",
    "\n",
    "    N=360\n",
    "    fig = plt.figure()\n",
    "    ax = fig.add_subplot(111, projection='3d')\n",
    "    ax.scatter(df['x'], df['y'], df['z'], c=df[\"labels\"],\n",
    "               s=6, depthshade=True, cmap='Paired')\n",
    "    ax.set_zlim(-15, 25)\n",
    "    ax.set_xlim(-20, 20)\n",
    "    plt.tight_layout()\n",
    "    ani = animation.FuncAnimation(fig, update, N, blit=False, interval=50)\n",
    "    #ani.save('{}.gif'.format(name), writer='imagemagick')\n",
    "    plt.show()"
   ]
  },
  {
   "cell_type": "code",
   "execution_count": null,
   "metadata": {},
   "outputs": [],
   "source": [
    "plot_animation(df_tsne, \"chosen_model\")"
   ]
  },
  {
   "cell_type": "markdown",
   "metadata": {},
   "source": [
    "## Interpreting Clusters"
   ]
  },
  {
   "cell_type": "markdown",
   "metadata": {},
   "source": [
    "Now that the clusters have been created, it would be nice to determine what makes each one unique. This will help with the understanding of the different observations. "
   ]
  },
  {
   "cell_type": "markdown",
   "metadata": {},
   "source": [
    "### Variance Within Variables and Between Clusters"
   ]
  },
  {
   "cell_type": "markdown",
   "metadata": {},
   "source": [
    "One way to see the differences between the clsuters is to take the average value of each cluster and visualize it\n",
    "\n",
    "The problem with this approach is that we simply have too many variables. Not all of them are likely to be important when creating the clusters. Instead, select the most important columns based on the following approach.\n",
    "\n",
    "Group datapoints by cluster and take the average. Then, calculate the standard deviation between those values for each variable. Variables with a higher standard deviation indicate that there are large differences between clusters and the variable might be important."
   ]
  },
  {
   "cell_type": "code",
   "execution_count": null,
   "metadata": {},
   "outputs": [],
   "source": [
    "# Go back the original dataframe that has all the features\n",
    "df_temp = df[df.columns[~df.columns.isin([\"GEOID\",\"GEO_ID\",\"NAME\"])]].copy()\n",
    "\n",
    "# Setting all variables between 0 and 1 in order to better visualize the results\n",
    "scaler = MinMaxScaler()\n",
    "df_scaled = pd.DataFrame(scaler.fit_transform(df_temp))\n",
    "df_scaled.columns = df_temp.columns"
   ]
  },
  {
   "cell_type": "code",
   "execution_count": null,
   "metadata": {},
   "outputs": [],
   "source": [
    "# Save the labels of the chosen model\n",
    "df_temp[\"labels\"] = chosen_model.labels_\n",
    "df_scaled[\"labels\"] = chosen_model.labels_"
   ]
  },
  {
   "cell_type": "code",
   "execution_count": null,
   "metadata": {},
   "outputs": [],
   "source": [
    "# Calculate variables with largest differences (by standard deviation)\n",
    "# The higher the standard deviation in a variable based on average values for each cluster\n",
    "# The more likely that the variable is important when creating the cluster\n",
    "df_mean = df_scaled.loc[df_scaled.labels!=-1, :].groupby('labels').mean().reset_index()\n",
    "\n",
    "results = pd.DataFrame(columns=['Variable', 'Std'])\n",
    "\n",
    "for column in df_mean.columns[1:]:\n",
    "    results.loc[len(results), :] = [column, np.std(df_mean[column])]"
   ]
  },
  {
   "cell_type": "code",
   "execution_count": null,
   "metadata": {},
   "outputs": [],
   "source": [
    "# Choose the number of columns to evaluate\n",
    "num_cols = 7\n",
    "\n",
    "# Put the contents of the top columns in a list\n",
    "selected_columns = list(results.sort_values('Std', ascending=False)\n",
    "                        .head(num_cols).Variable.values) + [\"labels\"]"
   ]
  },
  {
   "cell_type": "code",
   "execution_count": null,
   "metadata": {},
   "outputs": [],
   "source": [
    "# Plot data\n",
    "tidy = df_scaled[selected_columns].melt(id_vars='labels')\n",
    "fig, ax = plt.subplots(figsize=(15, 5))\n",
    "sns.barplot(x='labels', y='value', hue='variable', data=tidy, palette='Set3')\n",
    "plt.legend(loc='upper right')"
   ]
  },
  {
   "cell_type": "markdown",
   "metadata": {},
   "source": [
    "#### Heatmap of Important Features"
   ]
  },
  {
   "cell_type": "markdown",
   "metadata": {},
   "source": [
    "##### Sources\n",
    "\n",
    "https://www.bigendiandata.com/2017-04-18-Jupyter_Customer360/"
   ]
  },
  {
   "cell_type": "code",
   "execution_count": null,
   "metadata": {},
   "outputs": [],
   "source": [
    "# Filter the scaled dataframe for the labels and important featues\n",
    "df_scaled_sub = df_scaled[selected_columns]"
   ]
  },
  {
   "cell_type": "code",
   "execution_count": null,
   "metadata": {},
   "outputs": [],
   "source": [
    "# Split the dataframe into cluster groups.\n",
    "# Then, compute the mean for all columns in every group\n",
    "df_grouped = df_scaled_sub.groupby([\"labels\"], sort=True).mean()"
   ]
  },
  {
   "cell_type": "code",
   "execution_count": null,
   "metadata": {},
   "outputs": [],
   "source": [
    "# Put the column labels in a list\n",
    "labels = list(df_scaled_sub.labels.unique())\n",
    "labels.sort()"
   ]
  },
  {
   "cell_type": "code",
   "execution_count": null,
   "metadata": {},
   "outputs": [],
   "source": [
    "data = [go.Heatmap(z=df_grouped.values.tolist(), \n",
    "                   y=labels,\n",
    "                   x=list(df_grouped.columns),\n",
    "                   colorscale='Viridis')]\n",
    "\n",
    "plotly.offline.iplot(data, filename='pandas-heatmap')"
   ]
  },
  {
   "cell_type": "markdown",
   "metadata": {},
   "source": [
    "#### Density Plots of Important Features"
   ]
  },
  {
   "cell_type": "markdown",
   "metadata": {},
   "source": [
    "##### Sources\n",
    "\n",
    "https://radiant-rstats.github.io/docs/multivariate/kclus.html\n",
    "\n",
    "https://pandas.pydata.org/pandas-docs/stable/reference/api/pandas.DataFrame.plot.density.html"
   ]
  },
  {
   "cell_type": "code",
   "execution_count": null,
   "metadata": {},
   "outputs": [],
   "source": [
    "for i in range(len(selected_columns[:-1])):\n",
    "\n",
    "    df_density = pd.DataFrame(df_scaled_sub[df_scaled_sub[\"labels\"]==0].iloc[:,i])\n",
    "    col = list(df_density.columns)[0]\n",
    "    df_density.rename(columns={col:\"0\"}, inplace=True)\n",
    "\n",
    "    for l in labels[1:]:\n",
    "        new_col = df_scaled_sub[df_scaled_sub[\"labels\"]==l].iloc[:,i]\n",
    "        df_density = pd.concat([df_density, new_col], axis=1, sort=False)\n",
    "        df_density.rename(columns={col:str(l)}, inplace=True)\n",
    "    \n",
    "    print(\"Density Plot for Feature: \" + selected_columns[i])\n",
    "    df_density.plot.kde()"
   ]
  },
  {
   "cell_type": "markdown",
   "metadata": {},
   "source": [
    "### Random Forest Feature Selection"
   ]
  },
  {
   "cell_type": "markdown",
   "metadata": {},
   "source": [
    "Apply a Random Forest modelw ith the cluster labels as the target variable. This method can helpdetermine the features which are important in the generation of clusters.\n",
    "\n",
    "This method requires a bit more work since it's important to check the accuracy of the Random Forest model to accurately extract important features. Note that this step has been skipped below."
   ]
  },
  {
   "cell_type": "code",
   "execution_count": null,
   "metadata": {},
   "outputs": [],
   "source": [
    "from sklearn.ensemble import RandomForestClassifier\n",
    "y = df_temp.iloc[:,-1]\n",
    "X = df_temp.iloc[:,:-1]"
   ]
  },
  {
   "cell_type": "code",
   "execution_count": null,
   "metadata": {},
   "outputs": [],
   "source": [
    "clf = RandomForestClassifier(n_estimators=100).fit(X, y)\n",
    "selected_columns_rf = list(pd.DataFrame(np.array([clf.feature_importances_, X.columns]).T, columns=['Importance', 'Feature'])\n",
    "           .sort_values(\"Importance\", ascending=False)\n",
    "           .head(num_cols)\n",
    "           .Feature\n",
    "           .values)"
   ]
  },
  {
   "cell_type": "code",
   "execution_count": null,
   "metadata": {},
   "outputs": [],
   "source": [
    "tidy = df_scaled[selected_columns_rf+['labels']].melt(id_vars='labels')\n",
    "fig, ax = plt.subplots(figsize=(15, 5))\n",
    "sns.barplot(x='labels', y='value', hue='variable', data=tidy, palette='Set3')\n",
    "plt.legend(loc='upper right')"
   ]
  }
 ],
 "metadata": {
  "kernelspec": {
   "display_name": "Python 3",
   "language": "python",
   "name": "python3"
  },
  "language_info": {
   "codemirror_mode": {
    "name": "ipython",
    "version": 3
   },
   "file_extension": ".py",
   "mimetype": "text/x-python",
   "name": "python",
   "nbconvert_exporter": "python",
   "pygments_lexer": "ipython3",
   "version": "3.7.8"
  }
 },
 "nbformat": 4,
 "nbformat_minor": 4
}
